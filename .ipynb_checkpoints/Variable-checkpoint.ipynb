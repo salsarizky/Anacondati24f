{
 "cells": [
  {
   "cell_type": "code",
   "execution_count": 1,
   "id": "e3f0399b-f5c4-441b-b09f-f61220d54768",
   "metadata": {},
   "outputs": [
    {
     "name": "stdout",
     "output_type": "stream",
     "text": [
      "Nama : Sayyid\n",
      "Umur : 22\n",
      "Alamat :  Jl. Kadudampit\n",
      "Provinsi : 7413412\n",
      "Nilai Pemograman : 90.5\n",
      "Status Menikah : False\n"
     ]
    }
   ],
   "source": [
    "name = \"Sayyid\"\n",
    "age = 22\n",
    "address,province = \" Jl. Kadudampit\",\"7413412\"\n",
    "pythonScore = 90.5\n",
    "isMarried = False\n",
    "\n",
    "print(\"Nama :\",name)\n",
    "print(\"Umur :\",age)\n",
    "print(\"Alamat :\",address)\n",
    "print(\"Provinsi :\",province )\n",
    "print(\"Nilai Pemograman :\",pythonScore)\n",
    "print(\"Status Menikah :\",isMarried)"
   ]
  },
  {
   "cell_type": "code",
   "execution_count": 2,
   "id": "ee6519d5-a0e5-4c39-84fa-ed488845886f",
   "metadata": {},
   "outputs": [
    {
     "name": "stdout",
     "output_type": "stream",
     "text": [
      "Tipe Data (nama) : <class 'str'>\n",
      "Tipe Data (age) : <class 'int'>\n",
      "Tipe Data (address) : <class 'str'>\n",
      "Tipe Data (province) : <class 'str'>\n",
      "Tipe Data (pythonScore) : <class 'float'>\n",
      "Tipe Data (isMarried) : <class 'bool'>\n"
     ]
    }
   ],
   "source": [
    "print(\"Tipe Data (nama) :\",type(name))\n",
    "print(\"Tipe Data (age) :\",type(age))\n",
    "print(\"Tipe Data (address) :\",type(address))\n",
    "print(\"Tipe Data (province) :\",type(province))\n",
    "print(\"Tipe Data (pythonScore) :\",type(pythonScore))\n",
    "print(\"Tipe Data (isMarried) :\",type(isMarried))"
   ]
  },
  {
   "cell_type": "code",
   "execution_count": 3,
   "id": "549eeba7-e9a8-4d9c-aefd-f7d3a8587c36",
   "metadata": {},
   "outputs": [
    {
     "name": "stdout",
     "output_type": "stream",
     "text": [
      "7413414 7413412.0 True\n"
     ]
    }
   ],
   "source": [
    "#Casting atau Konversi Tipe Data\n",
    "\n",
    "strToInt = int(province)\n",
    "strToFloat = float(province)\n",
    "strToBool = bool(province)\n",
    "print(strToInt+2,strToFloat,strToBool)"
   ]
  },
  {
   "cell_type": "code",
   "execution_count": 4,
   "id": "21c7feb9-8e84-479a-9a3f-c69b443ec4b6",
   "metadata": {},
   "outputs": [
    {
     "name": "stdout",
     "output_type": "stream",
     "text": [
      "22 22.0 True\n"
     ]
    }
   ],
   "source": [
    "#Casting\n",
    "\n",
    "intToStr = str(age)\n",
    "intToFloat = float(age)\n",
    "intToBool = bool(age)\n",
    "print(intToStr,intToFloat,intToBool)"
   ]
  },
  {
   "cell_type": "code",
   "execution_count": 5,
   "id": "4901d184-ff18-4718-8ad3-e0c0a25edfbd",
   "metadata": {},
   "outputs": [
    {
     "name": "stdout",
     "output_type": "stream",
     "text": [
      "90 True 90.5\n"
     ]
    }
   ],
   "source": [
    "#Casting \n",
    "\n",
    "floatToInt = int(pythonScore)\n",
    "floatToBool = bool(pythonScore)\n",
    "floatToStr = str(pythonScore)\n",
    "print(floatToInt,floatToBool,floatToStr)\n"
   ]
  },
  {
   "cell_type": "code",
   "execution_count": 6,
   "id": "e5ca69e0-2ca4-4421-82cb-f9448306c65b",
   "metadata": {},
   "outputs": [
    {
     "name": "stdout",
     "output_type": "stream",
     "text": [
      "0 False 0.0\n"
     ]
    }
   ],
   "source": [
    "#Casting \n",
    "boolToInt = int(isMarried)\n",
    "boolToStr = str(isMarried)\n",
    "boolToFloat = float(isMarried)\n",
    "print(boolToInt,boolToStr,boolToFloat)\n"
   ]
  },
  {
   "cell_type": "code",
   "execution_count": 7,
   "id": "6094efe2-0676-4220-b55b-43d81e77da8b",
   "metadata": {},
   "outputs": [
    {
     "name": "stdout",
     "output_type": "stream",
     "text": [
      "B\n",
      "g\n"
     ]
    }
   ],
   "source": [
    "#String adalah kumpulan dari beberapa karakter dan immutable\n",
    "city = \"Bandung\"\n",
    "panjang = len(city)\n",
    "print(city[0])\n",
    "print(city[panjang-1])"
   ]
  },
  {
   "cell_type": "code",
   "execution_count": 8,
   "id": "deae51ef-3edb-4c14-9094-d22275ae77d5",
   "metadata": {},
   "outputs": [
    {
     "name": "stdout",
     "output_type": "stream",
     "text": [
      "Nilai desimal; 500\n",
      "Nilai binner; 15\n",
      "Nilai octal; 255\n",
      "Nilai hexa; 255\n",
      "binner dari  500 : 0b111110100\n",
      "octal dari  500 : 0o764\n",
      "hexadesimal dari  500 : 0x1f4\n"
     ]
    }
   ],
   "source": [
    "desimal = 500\n",
    "binner = 0b1111\n",
    "octal = 0o377\n",
    "hexa = 0xff\n",
    "\n",
    "print(\"Nilai desimal;\",desimal)\n",
    "print(\"Nilai binner;\",binner)\n",
    "print(\"Nilai octal;\",octal)\n",
    "print(\"Nilai hexa;\",hexa)\n",
    "\n",
    "\n",
    "print(\"binner dari \",desimal,\":\",bin(desimal))\n",
    "print(\"octal dari \",desimal,\":\",oct(desimal))\n",
    "print(\"hexadesimal dari \",desimal,\":\",hex(desimal))"
   ]
  },
  {
   "cell_type": "code",
   "execution_count": 10,
   "id": "0738601c-e279-4506-901d-43db9318c7d4",
   "metadata": {},
   "outputs": [
    {
     "name": "stdout",
     "output_type": "stream",
     "text": [
      "['Sukabumi', 'MAlang', 'Pekanbaru']\n",
      "Sukabumi\n",
      "Pekanbaru\n",
      "['Sukabumi', 'Pekanbaru', 'Pekanbaru']\n",
      "('Scroll Tiktok', 'Volly Ball', 'Membantu Ibu')\n",
      "Scroll Tiktok\n",
      "{'name': 'Acaw', 'age': 20, 'address': {'street': 'Jl. Kp Pondok Tisuk', 'number': 21, 'province': 'Kab. Sukabumi'}}\n"
     ]
    }
   ],
   "source": [
    "#Tipe Data Collection'\n",
    "cities = [\"Sukabumi\",\"MAlang\",\"Pekanbaru\"]\n",
    "print(cities)\n",
    "print(cities[0])\n",
    "print(cities[len(cities)-1])\n",
    "cities[1] = \"Pekanbaru\"\n",
    "print(cities)\n",
    "\n",
    "\n",
    "hobbies = (\"Scroll Tiktok\",\"Volly Ball\",\"Membantu Ibu\")\n",
    "print (hobbies)\n",
    "print(hobbies [0])\n",
    "#hobbies[0] = \"Watching Netflix\" error program\n",
    "studentList = [\n",
    "    {\n",
    "       \"name\" : \"Acaw\",\n",
    "       \"age\" : 20,\n",
    "       \"address\" : {\n",
    "           \"street\" : \"Jl. Kp Pondok Tisuk\",\n",
    "           \"number\" : 21,\n",
    "           \"province\" : \"Kab. Sukabumi\"\n",
    "       }\n",
    "  },\n",
    "  {\n",
    "        \"name\" : \"Reja\",\n",
    "        \"age\" : 21,\n",
    "        \"address\" : {\n",
    "             \"street\" : \"Jl. Kp Babakan\",\n",
    "             \"number\" : 2,\n",
    "             \"province\" : \"Kab. Bogor\"\n",
    "    }\n",
    "}\n",
    "]\n",
    "print(studentList[0])"
   ]
  },
  {
   "cell_type": "code",
   "execution_count": null,
   "id": "00d5b2d5-5d21-4c6f-acce-cf165f13cc99",
   "metadata": {},
   "outputs": [],
   "source": []
  }
 ],
 "metadata": {
  "kernelspec": {
   "display_name": "Python [conda env:base] *",
   "language": "python",
   "name": "conda-base-py"
  },
  "language_info": {
   "codemirror_mode": {
    "name": "ipython",
    "version": 3
   },
   "file_extension": ".py",
   "mimetype": "text/x-python",
   "name": "python",
   "nbconvert_exporter": "python",
   "pygments_lexer": "ipython3",
   "version": "3.12.7"
  }
 },
 "nbformat": 4,
 "nbformat_minor": 5
}
