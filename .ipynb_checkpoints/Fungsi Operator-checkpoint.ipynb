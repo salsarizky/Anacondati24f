{
 "cells": [
  {
   "cell_type": "code",
   "execution_count": 5,
   "id": "f48da33f-571b-427a-afbd-aeb99571b786",
   "metadata": {},
   "outputs": [
    {
     "name": "stdin",
     "output_type": "stream",
     "text": [
      "Masukkan nama Anda:  Acaaa\n"
     ]
    },
    {
     "name": "stdout",
     "output_type": "stream",
     "text": [
      "Halo, Acaaa ! Selamat datang!\n"
     ]
    }
   ],
   "source": [
    "nama = input(\"Masukkan nama Anda: \")\n",
    "print(\"Halo,\", nama, \"! Selamat datang!\")"
   ]
  },
  {
   "cell_type": "code",
   "execution_count": 11,
   "id": "c9aaa100-1d69-462c-9d76-7590b65d74d5",
   "metadata": {},
   "outputs": [
    {
     "name": "stdout",
     "output_type": "stream",
     "text": [
      "Nama: Acaaa\n",
      "Usia: 20\n",
      "Alamat: Nagrak\n"
     ]
    }
   ],
   "source": [
    "nama = \"Acaaa\"\n",
    "usia = 20\n",
    "alamat = \"Nagrak\"\n",
    "\n",
    "print(\"Nama:\", nama)\n",
    "print(\"Usia:\", usia)\n",
    "print(\"Alamat:\", alamat)"
   ]
  },
  {
   "cell_type": "code",
   "execution_count": 17,
   "id": "90e77ba7-01d7-4117-8db7-65904a38f846",
   "metadata": {},
   "outputs": [
    {
     "name": "stdout",
     "output_type": "stream",
     "text": [
      "Panjang string: 19\n"
     ]
    }
   ],
   "source": [
    "#1len() : Menghitung panjang string\n",
    "teks = \"Halo, Nusa Putraku!\"\n",
    "panjang = len(teks)\n",
    "print(f\"Panjang string: {panjang}\")\n"
   ]
  },
  {
   "cell_type": "code",
   "execution_count": 21,
   "id": "4f255854-e39b-4c4b-9154-e3ce729979ee",
   "metadata": {},
   "outputs": [
    {
     "name": "stdout",
     "output_type": "stream",
     "text": [
      "String tanpa spasi: Aku senang berada di kelas\n"
     ]
    }
   ],
   "source": [
    "#4. strip() : Menghapus spasi di awal dan akhir string\n",
    "teks_dengan_spasi = \"   Aku senang berada di kelas   \"\n",
    "teks_tanpa_spasi = teks_dengan_spasi.strip()\n",
    "print(f\"String tanpa spasi: {teks_tanpa_spasi}\")\n",
    "\n"
   ]
  },
  {
   "cell_type": "code",
   "execution_count": 23,
   "id": "6f0a7055-b631-42d3-a3eb-3a1fb3f3a040",
   "metadata": {},
   "outputs": [
    {
     "name": "stdout",
     "output_type": "stream",
     "text": [
      "String besar: HALO, NUSA PUTRAKU!\n"
     ]
    }
   ],
   "source": [
    "#3. upper() : Mengubah string menjadi huruf besar\n",
    "teks_besar = teks.upper()\n",
    "print(f\"String besar: {teks_besar}\")"
   ]
  },
  {
   "cell_type": "code",
   "execution_count": 25,
   "id": "d7047283-3405-422d-a223-af9e5a35b241",
   "metadata": {},
   "outputs": [
    {
     "name": "stdout",
     "output_type": "stream",
     "text": [
      "String kecil: halo, nusa putraku!\n"
     ]
    }
   ],
   "source": [
    "#2. lower() : Mengubah string menjadi huruf kecil\n",
    "teks_kecil = teks.lower()\n",
    "print(f\"String kecil: {teks_kecil}\")\n"
   ]
  },
  {
   "cell_type": "code",
   "execution_count": 33,
   "id": "5c51af73-6f5d-442e-addc-30151907f041",
   "metadata": {},
   "outputs": [
    {
     "name": "stdout",
     "output_type": "stream",
     "text": [
      "String baru: Halo, Acaaaaaa Putraku!\n"
     ]
    }
   ],
   "source": [
    "#5. replace() : Mengganti substring\n",
    "teks_baru = teks.replace(\"Nusa\", \"Acaaaaaa\")\n",
    "print(f\"String baru: {teks_baru}\")\n",
    "\n"
   ]
  },
  {
   "cell_type": "code",
   "execution_count": 37,
   "id": "72b94a7a-4303-4dca-ab51-b26f829b676f",
   "metadata": {},
   "outputs": [
    {
     "name": "stdout",
     "output_type": "stream",
     "text": [
      "List kata: ['Halo', ' Nusa Putraku!']\n"
     ]
    }
   ],
   "source": [
    " #6. split() : Memecah string menjadi list\n",
    "kata_kata = teks.split(\",\")\n",
    "print(f\"List kata: {kata_kata}\")"
   ]
  },
  {
   "cell_type": "code",
   "execution_count": 45,
   "id": "36623072-33d4-48a5-b9b2-a5f83520d937",
   "metadata": {},
   "outputs": [
    {
     "name": "stdout",
     "output_type": "stream",
     "text": [
      "Kalimat: Kesukaan Acaa adalah dimsum mentai\n"
     ]
    }
   ],
   "source": [
    "#7. join() : Menggabungkan list menjadi string\n",
    "daftar_kata = [\"Kesukaan Acaa\", \"adalah\", \"dimsum mentai\"]\n",
    "kalimat = \" \".join(daftar_kata)\n",
    "print(f\"Kalimat: {kalimat}\")"
   ]
  }
 ],
 "metadata": {
  "kernelspec": {
   "display_name": "Python [conda env:base] *",
   "language": "python",
   "name": "conda-base-py"
  },
  "language_info": {
   "codemirror_mode": {
    "name": "ipython",
    "version": 3
   },
   "file_extension": ".py",
   "mimetype": "text/x-python",
   "name": "python",
   "nbconvert_exporter": "python",
   "pygments_lexer": "ipython3",
   "version": "3.12.7"
  }
 },
 "nbformat": 4,
 "nbformat_minor": 5
}
