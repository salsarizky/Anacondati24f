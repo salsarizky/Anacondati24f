{
 "cells": [
  {
   "cell_type": "code",
   "execution_count": 5,
   "id": "0b65b197-3233-4f9e-91f8-574d49e3a000",
   "metadata": {},
   "outputs": [
    {
     "name": "stdin",
     "output_type": "stream",
     "text": [
      "Isikan Umur Anda : 2\n"
     ]
    },
    {
     "name": "stdout",
     "output_type": "stream",
     "text": [
      "Kategori : Anak\n"
     ]
    }
   ],
   "source": [
    "usia = int(input(\"Isikan Umur Anda :\"))\n",
    "\n",
    "if usia >=0:\n",
    "    if usia <= 12:\n",
    "        print(\"Kategori : Anak\")\n",
    "    elif usia <= 17:\n",
    "        print(\"Kategori : Remaja\")\n",
    "    elif usia <= 59:\n",
    "        print(\"Kategori : Dewasa\")\n",
    "    else:\n",
    "        print(\"Kategori : Lansia\")\n",
    "else:\n",
    "    print(\"Umur Tidak Valid\")"
   ]
  },
  {
   "cell_type": "code",
   "execution_count": 51,
   "id": "b737fafd-0e2d-4fe5-aae6-79fccb27d66c",
   "metadata": {},
   "outputs": [
    {
     "name": "stdin",
     "output_type": "stream",
     "text": [
      "Isikan Umur Tiket 1: 1\n",
      "Isikan Umur Tiket 2: 27\n",
      "Isikan Umur Tiket 3: 55\n"
     ]
    },
    {
     "name": "stdout",
     "output_type": "stream",
     "text": [
      "Tiket 1 : 10.000\n",
      "Tiket 2 : 25.000\n",
      "Tiket 3 : 25.000\n",
      " totalBiaya:60000\n"
     ]
    }
   ],
   "source": [
    "# tiket1 = int(input(\"Isikan Umur Tiket 1:\"))\n",
    "tiket2 = int(input(\"Isikan Umur Tiket 2:\"))\n",
    "tiket3 = int(input(\"Isikan Umur Tiket 3:\"))\n",
    "\n",
    "totalBiaya = 0\n",
    "if tiket1 <13:\n",
    "    print(\"Tiket 1 : 10.000\")\n",
    "    totalBiaya = totalBiaya + 10000\n",
    "elif tiket1 <18:\n",
    "    print(\"Tiket 1 : 15.000\")\n",
    "    totalBiaya = totalBiaya + 15000\n",
    "elif tiket1 <60:\n",
    "    print(\"Tiket 1 : 25.000\")\n",
    "    totalBiaya = totalBiaya + 25000\n",
    "else: \n",
    "    print(\"Tiket 1 : Gratis\")\n",
    "    \n",
    "######################################################################\n",
    "if tiket2 <13:\n",
    "    print(\"Tiket 2 : 10.000\")\n",
    "    totalBiaya = totalBiaya + 10000\n",
    "elif tiket2 <18:\n",
    "    print(\"Tiket 2 : 15.000\")\n",
    "    totalBiaya = totalBiaya + 15000\n",
    "elif tiket2 <60:\n",
    "    print(\"Tiket 2 : 25.000\")\n",
    "    totalBiaya = totalBiaya + 25000\n",
    "else: \n",
    "    print(\"Tiket 2 : Gratis\")\n",
    "    \n",
    "\n",
    "#######################################\n",
    "if tiket3 <13:\n",
    "    print(\"Tiket 3 : 10.000\")\n",
    "    totalBiaya = totalBiaya + 10000\n",
    "elif tiket3 <18:\n",
    "    print(\"Tiket 3 : 15.000\")\n",
    "    totalBiaya = totalBiaya + 15000\n",
    "elif tiket3 <60:\n",
    "    print(\"Tiket 3 : 25.000\")\n",
    "    totalBiaya = totalBiaya + 25000\n",
    "else: \n",
    "    print(\"Tiket 3 : Gratis\")\n",
    "\n",
    "print(f\" totalBiaya:{totalBiaya}\")"
   ]
  },
  {
   "cell_type": "code",
   "execution_count": 63,
   "id": "da52ead4-0cc9-4d1f-a739-feedf23041f1",
   "metadata": {},
   "outputs": [
    {
     "name": "stdin",
     "output_type": "stream",
     "text": [
      "Masukan Nilai Raport 99\n",
      "Isikan Penghasilan Ortu 4000000\n"
     ]
    },
    {
     "name": "stdout",
     "output_type": "stream",
     "text": [
      "Mendapatkan Beasiswa Penuh\n"
     ]
    }
   ],
   "source": [
    "NilaiRaport = int(input(\"Masukan Nilai Raport\"))\n",
    "penghasilanOrtu = int(input(\"Isikan Penghasilan Ortu\"))\n",
    "\n",
    "if NilaiRaport >= 90 and penghasilanOrtu <5000000:\n",
    "    print(\"Mendapatkan Beasiswa Penuh\")\n",
    "elif NilaiRaport >= 85 and penghasilanOrtu <8000000:\n",
    "    print(\"Mendapatkan Beasiswa 50%\")\n",
    "else:\n",
    "    print(\"Tidak Mendapatkan Beasiswa\")"
   ]
  },
  {
   "cell_type": "code",
   "execution_count": 55,
   "id": "d1b4bc38-b78e-43fd-a92b-9307fe75b1e6",
   "metadata": {},
   "outputs": [
    {
     "name": "stdin",
     "output_type": "stream",
     "text": [
      "Masukan motor/mobil:  mobil\n",
      "Jam Masuk:  23\n",
      "Jam Keluar:  24\n"
     ]
    },
    {
     "name": "stdout",
     "output_type": "stream",
     "text": [
      "Tarif mobil: 5000\n",
      "Lama Parkir: 1 jam\n",
      "Total Tarif Parkir: 5000\n"
     ]
    }
   ],
   "source": [
    "jenisKendaraan = input(\"Masukan motor/mobil: \")\n",
    "jamMasuk = int(input(\"Jam Masuk: \"))\n",
    "jamKeluar = int(input(\"Jam Keluar: \"))\n",
    "\n",
    "tarifPerjam = 0\n",
    "if jenisKendaraan == \"motor\":\n",
    "    tarifPerjam = 2000\n",
    "elif jenisKendaraan == \"mobil\":\n",
    "    tarifPerjam = 5000\n",
    "else:\n",
    "    print(\"Tidak menerima selain mobil atau motor\")\n",
    "\n",
    "if jamMasuk >= jamKeluar:\n",
    "    print(\"Input Jam Masuk/Jam Keluar Salah!\")\n",
    "else:\n",
    "    totalTarif = (jamKeluar - jamMasuk)*tarifPerjam\n",
    "\n",
    "print(f\"Tarif {jenisKendaraan}: {tarifPerjam}\")\n",
    "print(f\"Lama Parkir: {jamKeluar-jamMasuk} jam\")\n",
    "print(f\"Total Tarif Parkir: {totalTarif}\")"
   ]
  },
  {
   "cell_type": "code",
   "execution_count": 71,
   "id": "2d7f1623-3cca-4d5f-8986-6c39c6d6de48",
   "metadata": {},
   "outputs": [
    {
     "name": "stdin",
     "output_type": "stream",
     "text": [
      "Nomor Punggung : 23\n"
     ]
    },
    {
     "name": "stdout",
     "output_type": "stream",
     "text": [
      "Kamu mempunyai pilihan posisi : Defender, \n"
     ]
    }
   ],
   "source": [
    "nomorPunggung = int(input(\"Nomor Punggung :\"))\n",
    "posisi = \"\"\n",
    "if nomorPunggung % 2 == 0:\n",
    "    posisi += \"Target attacker,\"\n",
    "    if nomorPunggung >=50 and nomorPunggung <=100:\n",
    "        posisi += \"Berhak dipilih menjadi Capten,\"\n",
    "\n",
    "else:\n",
    "    posisi += \"Defender,\"\n",
    "    if nomorPunggung > 90:\n",
    "        posisi += \"Playmaker,\"\n",
    "    if nomorPunggung % 3 == 0 and nomorPunggung % 5 ==0:\n",
    "        posisi += \"Keeper,\"\n",
    "print(f\"Kamu mempunyai pilihan posisi : {posisi} \")"
   ]
  }
 ],
 "metadata": {
  "kernelspec": {
   "display_name": "Python [conda env:base] *",
   "language": "python",
   "name": "conda-base-py"
  },
  "language_info": {
   "codemirror_mode": {
    "name": "ipython",
    "version": 3
   },
   "file_extension": ".py",
   "mimetype": "text/x-python",
   "name": "python",
   "nbconvert_exporter": "python",
   "pygments_lexer": "ipython3",
   "version": "3.12.7"
  }
 },
 "nbformat": 4,
 "nbformat_minor": 5
}
