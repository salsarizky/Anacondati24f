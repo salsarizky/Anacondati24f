{
 "cells": [
  {
   "cell_type": "code",
   "execution_count": 1,
   "id": "b5ed0d51-a0b3-43c9-be40-54bc92150e6a",
   "metadata": {},
   "outputs": [],
   "source": [
    "import numpy as np"
   ]
  },
  {
   "cell_type": "code",
   "execution_count": 15,
   "id": "8e2da343-92e1-4311-b717-1a777bbf5850",
   "metadata": {},
   "outputs": [],
   "source": [
    "#Matrix 1D\n",
    "mat1D = np.array([1,2,3,4,5,6,7,8,9,10])\n",
    "mat2D = np.array([[1,2,3],[4,5,6],[7,8,9]])"
   ]
  },
  {
   "cell_type": "code",
   "execution_count": 9,
   "id": "3236c21c-ac10-4210-bc86-f1c133085f83",
   "metadata": {},
   "outputs": [
    {
     "name": "stdout",
     "output_type": "stream",
     "text": [
      "[ 1  2  3  4  5  6  7  8  9 10]\n"
     ]
    }
   ],
   "source": [
    "print(mat1D)"
   ]
  },
  {
   "cell_type": "code",
   "execution_count": 11,
   "id": "86e4c0c9-7b2b-46aa-9de4-fc222294aa0d",
   "metadata": {},
   "outputs": [
    {
     "name": "stdout",
     "output_type": "stream",
     "text": [
      "1\n"
     ]
    }
   ],
   "source": [
    "print(mat1D[0])"
   ]
  },
  {
   "cell_type": "code",
   "execution_count": 17,
   "id": "cdaeed84-f81e-41a4-91eb-e6d7eb7459bf",
   "metadata": {},
   "outputs": [
    {
     "name": "stdout",
     "output_type": "stream",
     "text": [
      "[ 6  7  8  9 10 11 12 13 14 15]\n"
     ]
    }
   ],
   "source": [
    "print(mat1D + 5)"
   ]
  },
  {
   "cell_type": "code",
   "execution_count": 19,
   "id": "ff052b00-18bc-47cd-b179-20780ade88ee",
   "metadata": {},
   "outputs": [
    {
     "name": "stdout",
     "output_type": "stream",
     "text": [
      "[[1 2 3]\n",
      " [4 5 6]\n",
      " [7 8 9]]\n"
     ]
    }
   ],
   "source": [
    "print(mat2D)"
   ]
  },
  {
   "cell_type": "code",
   "execution_count": 21,
   "id": "f7de9039-ce0e-4194-9e77-7f480de4ea08",
   "metadata": {},
   "outputs": [
    {
     "name": "stdout",
     "output_type": "stream",
     "text": [
      "[1 2 3]\n",
      "[4 5 6]\n",
      "[7 8 9]\n"
     ]
    }
   ],
   "source": [
    "print(mat2D[0])\n",
    "print(mat2D[1])\n",
    "print(mat2D[2])"
   ]
  },
  {
   "cell_type": "code",
   "execution_count": 23,
   "id": "cfcdf09b-2276-467a-a9ee-cce489a0c31f",
   "metadata": {},
   "outputs": [
    {
     "name": "stdout",
     "output_type": "stream",
     "text": [
      "3\n"
     ]
    }
   ],
   "source": [
    "print(mat2D[0][2])"
   ]
  },
  {
   "cell_type": "code",
   "execution_count": 25,
   "id": "eaac0d80-ebea-4c95-b891-12ebfc8b5343",
   "metadata": {},
   "outputs": [
    {
     "name": "stdout",
     "output_type": "stream",
     "text": [
      "[[11 12 13]\n",
      " [14 15 16]\n",
      " [17 18 19]]\n"
     ]
    }
   ],
   "source": [
    "print(mat2D + 10)"
   ]
  },
  {
   "cell_type": "code",
   "execution_count": 27,
   "id": "79524014-3ac4-47ef-ac58-33116a2c5ca3",
   "metadata": {},
   "outputs": [
    {
     "name": "stdout",
     "output_type": "stream",
     "text": [
      "[[10 20 30]\n",
      " [40 50 60]\n",
      " [70 80 90]]\n"
     ]
    }
   ],
   "source": [
    "print(mat2D * 10)"
   ]
  },
  {
   "cell_type": "code",
   "execution_count": 31,
   "id": "7ff91425-65d9-4a4c-8aae-de7533ef1abc",
   "metadata": {},
   "outputs": [
    {
     "name": "stdout",
     "output_type": "stream",
     "text": [
      "(10,)\n",
      "(3, 3)\n"
     ]
    }
   ],
   "source": [
    "print(mat1D.shape)\n",
    "print(mat2D.shape)"
   ]
  },
  {
   "cell_type": "code",
   "execution_count": 33,
   "id": "c37e2d74-44f1-445b-87d9-83b45875258c",
   "metadata": {},
   "outputs": [
    {
     "name": "stdout",
     "output_type": "stream",
     "text": [
      "10\n",
      "9\n"
     ]
    }
   ],
   "source": [
    "print(mat1D.size)\n",
    "print(mat2D.size)"
   ]
  },
  {
   "cell_type": "code",
   "execution_count": 91,
   "id": "1e440fd4-2afa-4f8f-a01e-f3d6dced56d7",
   "metadata": {},
   "outputs": [],
   "source": [
    "#Special Matrix \n",
    "mZero = np.zeros((3,3))\n",
    "mIdentity = np.eye((4))\n",
    "mFull = np.full((4,4),7)\n",
    "mOne = np.ones((5,4))\n",
    "mRandomFloat = np.random.rand(5,5)\n",
    "mRandomInt = np.random.randint(10,101, size=6)"
   ]
  },
  {
   "cell_type": "code",
   "execution_count": 67,
   "id": "6fd15031-383f-47ea-9ade-6ed7240728f9",
   "metadata": {},
   "outputs": [
    {
     "name": "stdout",
     "output_type": "stream",
     "text": [
      "[[0. 0. 0.]\n",
      " [0. 0. 0.]\n",
      " [0. 0. 0.]]\n"
     ]
    }
   ],
   "source": [
    "print(mZero)"
   ]
  },
  {
   "cell_type": "code",
   "execution_count": 69,
   "id": "4043fa55-18b1-40b1-b40f-3dd6a103ad41",
   "metadata": {},
   "outputs": [
    {
     "name": "stdout",
     "output_type": "stream",
     "text": [
      "[[1. 0. 0. 0.]\n",
      " [0. 1. 0. 0.]\n",
      " [0. 0. 1. 0.]\n",
      " [0. 0. 0. 1.]]\n"
     ]
    }
   ],
   "source": [
    "print(mIdentity)"
   ]
  },
  {
   "cell_type": "code",
   "execution_count": 71,
   "id": "33c672f8-52c4-4137-bf82-d210ed45eec1",
   "metadata": {},
   "outputs": [
    {
     "name": "stdout",
     "output_type": "stream",
     "text": [
      "[[1. 1. 1. 1.]\n",
      " [1. 1. 1. 1.]\n",
      " [1. 1. 1. 1.]\n",
      " [1. 1. 1. 1.]\n",
      " [1. 1. 1. 1.]]\n"
     ]
    }
   ],
   "source": [
    "print(mOne)"
   ]
  },
  {
   "cell_type": "code",
   "execution_count": 101,
   "id": "6e079465-b348-40fb-b6a8-f4f46055a50b",
   "metadata": {},
   "outputs": [
    {
     "name": "stdout",
     "output_type": "stream",
     "text": [
      "[[0.10928824 0.03639285 0.66251773 0.24882406 0.53233658]\n",
      " [0.92969234 0.96337225 0.27411276 0.52578624 0.70092564]\n",
      " [0.96601357 0.69914618 0.04073163 0.39111491 0.72703993]\n",
      " [0.07711565 0.97633871 0.10644309 0.98377542 0.6660435 ]\n",
      " [0.14023857 0.23154846 0.66885423 0.47411545 0.29653344]]\n"
     ]
    }
   ],
   "source": [
    "print(mRandomFloat)"
   ]
  },
  {
   "cell_type": "code",
   "execution_count": 93,
   "id": "b119d5ae-ffdc-4cb7-ac18-cd51a2820cea",
   "metadata": {},
   "outputs": [
    {
     "name": "stdout",
     "output_type": "stream",
     "text": [
      "[12 47 54 11 51 66]\n"
     ]
    }
   ],
   "source": [
    "print(mRandomInt)"
   ]
  },
  {
   "cell_type": "code",
   "execution_count": 113,
   "id": "d215b10d-c6d8-4ff3-a3d8-1943377fd04c",
   "metadata": {},
   "outputs": [
    {
     "name": "stdout",
     "output_type": "stream",
     "text": [
      "Hasil dari dot Product : 65\n",
      "Hasil Penjumlahan Matriks : [ 3  9 14]\n",
      "Nilai minimum dari[2 6 9] : 2\n",
      "Nilai maximum dari[1 3 5] : 5\n",
      "Rata-rata Nilai dari[1 3 5] : 3.0\n",
      "Nilai median dari[1 3 5] : 3.0\n",
      "Nilai Deviasi dari[1 3 5] : 1.632993161855452\n"
     ]
    }
   ],
   "source": [
    "x = np.array([2,6,9])\n",
    "y = np.array([1,3,5])\n",
    "\n",
    "dotProduct = np.dot(x,y)\n",
    "addMatrix = np.add(x,y)\n",
    "minValue = np.min(x)\n",
    "maxValue = np.max(y)\n",
    "meanValue = np.mean(y)\n",
    "medianValue = np.median(y)\n",
    "stdValue = np.std(y)\n",
    "print(f\"Hasil dari dot Product : {dotProduct}\")\n",
    "print(f\"Hasil Penjumlahan Matriks : {addMatrix}\")\n",
    "print(f\"Nilai minimum dari{x} : {minValue}\")\n",
    "print(f\"Nilai maximum dari{y} : {maxValue}\")\n",
    "print(f\"Rata-rata Nilai dari{y} : {meanValue}\")\n",
    "print(f\"Nilai median dari{y} : {medianValue}\")\n",
    "print(f\"Nilai Deviasi dari{y} : {stdValue}\")"
   ]
  },
  {
   "cell_type": "code",
   "execution_count": 115,
   "id": "a5887f9e-af9c-44ce-9f51-d4065698efc0",
   "metadata": {},
   "outputs": [
    {
     "name": "stdout",
     "output_type": "stream",
     "text": [
      "[[1]\n",
      " [2]\n",
      " [3]\n",
      " [4]\n",
      " [5]\n",
      " [6]\n",
      " [7]\n",
      " [8]\n",
      " [9]]\n",
      "[1 2 3 4 5 6 7 8 9]\n"
     ]
    }
   ],
   "source": [
    "myArray = np.array([[1,2,3],[4,5,6],[7,8,9]])\n",
    "\n",
    "reshape = myArray.reshape(9,1)\n",
    "flatten =myArray.flatten()\n",
    "\n",
    "print(reshape)\n",
    "print(flatten)"
   ]
  },
  {
   "cell_type": "code",
   "execution_count": 131,
   "id": "193db6fe-5efb-4104-a17d-cde7dd665e88",
   "metadata": {},
   "outputs": [
    {
     "name": "stdout",
     "output_type": "stream",
     "text": [
      "[ 80  90  60 100  95]\n",
      "Jumlah Siswa yang lulus : 5\n"
     ]
    }
   ],
   "source": [
    "#Filtering\n",
    "nilaiSiswa = np.array([80,90,60,50,50,100,95])\n",
    "lulus = nilaiSiswa[nilaiSiswa > 50]\n",
    "jumlah = lulus.size\n",
    "print(lulus)\n",
    "print (f\"Jumlah Siswa yang lulus : {jumlah}\")"
   ]
  },
  {
   "cell_type": "code",
   "execution_count": null,
   "id": "edd5cae2-b54e-4ef0-94c2-ee659eba4776",
   "metadata": {},
   "outputs": [],
   "source": []
  }
 ],
 "metadata": {
  "kernelspec": {
   "display_name": "Python [conda env:base] *",
   "language": "python",
   "name": "conda-base-py"
  },
  "language_info": {
   "codemirror_mode": {
    "name": "ipython",
    "version": 3
   },
   "file_extension": ".py",
   "mimetype": "text/x-python",
   "name": "python",
   "nbconvert_exporter": "python",
   "pygments_lexer": "ipython3",
   "version": "3.12.7"
  }
 },
 "nbformat": 4,
 "nbformat_minor": 5
}
