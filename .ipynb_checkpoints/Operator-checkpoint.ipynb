{
 "cells": [
  {
   "cell_type": "markdown",
   "id": "e838bf11-a2ff-404c-a157-f45b2720cdbc",
   "metadata": {},
   "source": [
    "<h1>Operator Aritmatika</h1>"
   ]
  },
  {
   "cell_type": "code",
   "execution_count": 1,
   "id": "970e0fa2-5663-4255-9d52-b2d0c927bc93",
   "metadata": {},
   "outputs": [
    {
     "name": "stdin",
     "output_type": "stream",
     "text": [
      "Isikan Nilai X: 50\n",
      "Isikan Nilai Y: 3\n"
     ]
    },
    {
     "name": "stdout",
     "output_type": "stream",
     "text": [
      "Hasil Penjumlahan 50 + 3 = 53\n",
      "Hasil Pengurangan 50 - 3 = 47\n",
      "Hasil Perkalian 50 * 3 = 150\n",
      "Hasil Pembagian 50 / 3 = 16.666666666666668\n",
      "Hasil Modulus 50 % 3 = 2\n",
      "Hasil Pangkat 50 ** 3 = 125000\n",
      "Hasil Pembagian Bulat 50 // 3 = 16\n"
     ]
    }
   ],
   "source": [
    "x = input(\"Isikan Nilai X:\")\n",
    "y = input(\"Isikan Nilai Y:\")\n",
    "x = int (x)\n",
    "y = int (y)\n",
    "hasilTambah = x + y\n",
    "hasilKurang = x - y\n",
    "hasilKali = x * y\n",
    "hasilBagi = x / y\n",
    "hasilMod = x % y\n",
    "hasilPangkat = x ** y\n",
    "hasilDiv = x // y\n",
    "\n",
    "print(\"Hasil Penjumlahan\",x,\"+\",y,\"=\",hasilTambah)\n",
    "print(\"Hasil Pengurangan\",x,\"-\",y,\"=\",hasilKurang)\n",
    "print(\"Hasil Perkalian\",x,\"*\",y,\"=\",hasilKali)\n",
    "print(\"Hasil Pembagian\",x,\"/\",y,\"=\",hasilBagi)\n",
    "print(\"Hasil Modulus\",x,\"%\",y,\"=\",hasilMod)\n",
    "print(\"Hasil Pangkat\",x,\"**\",y,\"=\",hasilPangkat)\n",
    "print(\"Hasil Pembagian Bulat\",x,\"//\",y,\"=\",hasilDiv)\n",
    "\n"
   ]
  },
  {
   "cell_type": "code",
   "execution_count": null,
   "id": "409eee92-6973-494d-b04a-a616024057c8",
   "metadata": {},
   "outputs": [],
   "source": []
  },
  {
   "cell_type": "markdown",
   "id": "ca186067-939a-4b3d-8f98-cc17dbc2122a",
   "metadata": {},
   "source": [
    "<h1>Operator Penugasan</h1>"
   ]
  },
  {
   "cell_type": "code",
   "execution_count": 5,
   "id": "cd5bfb46-08f2-4a3c-b105-a2f670c1f944",
   "metadata": {},
   "outputs": [
    {
     "name": "stdin",
     "output_type": "stream",
     "text": [
      "Isikan Nilai Awal: 10\n"
     ]
    },
    {
     "name": "stdout",
     "output_type": "stream",
     "text": [
      "Nilai Awal : 10\n",
      "Setelah ditambah 3= 13\n",
      "Kemudian dikurang dengan 5= 8\n",
      "Selanjutnya dikali dengan 3 = 4.0\n",
      "Proses terakhir dibagi dengan 2= 12.0\n"
     ]
    }
   ],
   "source": [
    "nilaiAwal = int (input(\"Isikan Nilai Awal:\"))\n",
    "\n",
    "print(\"Nilai Awal :\",nilaiAwal)\n",
    "nilaiAwal+=3\n",
    "print(\"Setelah ditambah 3=\",nilaiAwal)\n",
    "nilaiAwal-=5\n",
    "print(\"Kemudian dikurang dengan 5=\",nilaiAwal)\n",
    "nilaiAwal/=2\n",
    "print(\"Selanjutnya dikali dengan 3 =\",nilaiAwal)\n",
    "nilaiAwal*=3\n",
    "print(\"Proses terakhir dibagi dengan 2=\",nilaiAwal)\n"
   ]
  },
  {
   "cell_type": "markdown",
   "id": "1e4232dd-0e4f-4e6d-b779-9ed65781542b",
   "metadata": {},
   "source": [
    "<h1>Operator Perbandingan</h1>"
   ]
  },
  {
   "cell_type": "code",
   "execution_count": 11,
   "id": "e61b65f4-1703-444d-80da-d7c938d20906",
   "metadata": {},
   "outputs": [
    {
     "name": "stdin",
     "output_type": "stream",
     "text": [
      "Isikan Nilai fVal : 6\n",
      "Isikan Nilai sVal : 6\n"
     ]
    },
    {
     "name": "stdout",
     "output_type": "stream",
     "text": [
      "6 = 6 True\n",
      "6 != 6 False\n",
      "6 > 6 False\n",
      "6 < 6 False\n",
      "6 >= 6 True\n",
      "6 <= 6 True\n"
     ]
    }
   ],
   "source": [
    "fVal =int (input(\"Isikan Nilai fVal :\"))\n",
    "sVal =int (input(\"Isikan Nilai sVal :\"))\n",
    "\n",
    "\n",
    "print(fVal,\"=\",sVal,fVal==sVal)\n",
    "print(fVal,\"!=\",sVal,fVal!=sVal)\n",
    "print(fVal,\">\",sVal,fVal>sVal)\n",
    "print(fVal,\"<\",sVal,fVal<sVal)\n",
    "print(fVal,\">=\",sVal,fVal>=sVal)\n",
    "print(fVal,\"<=\",sVal,fVal<=sVal)"
   ]
  },
  {
   "cell_type": "markdown",
   "id": "b3872294-8970-43b1-9652-0439766e40fe",
   "metadata": {},
   "source": [
    "<h1>Operator Logika</h1>"
   ]
  },
  {
   "cell_type": "code",
   "execution_count": 23,
   "id": "995c1e00-57d2-4e67-8b0b-7f01e730f596",
   "metadata": {},
   "outputs": [
    {
     "name": "stdin",
     "output_type": "stream",
     "text": [
      "Isikan Bilangan 1 : 6\n",
      "Isikan Bilangan 2 : 1\n"
     ]
    },
    {
     "name": "stdout",
     "output_type": "stream",
     "text": [
      "Bilangan 1: 6\n",
      "Bilangan 2: 1\n",
      "Apakah Bil. 1 mod 2 = 0 dan Bil. 2 lebih besar dari 3? False\n",
      "Apakah Bil. 1 mod 2 = 0 dan Bil. 2 lebih besar dari 3? True\n",
      "Apakah Bil. 1 mod 2 = 0 dan Bil. 2 lebih besar dari 3? False\n"
     ]
    }
   ],
   "source": [
    "num_1 = int(input(\"Isikan Bilangan 1 :\"))\n",
    "num_2 = int(input(\"Isikan Bilangan 2 :\"))\n",
    "\n",
    "print(\"Bilangan 1:\",num_1)\n",
    "print(\"Bilangan 2:\",num_2)\n",
    "\n",
    "print(\"Apakah Bil. 1 mod 2 = 0 dan Bil. 2 lebih besar dari 3?\",num_1 % 2==0 and num_2 > 3 )\n",
    "print(\"Apakah Bil. 1 mod 2 = 0 dan Bil. 2 lebih besar dari 3?\",num_1 % 2==0 or num_2 > 3 )\n",
    "print(\"Apakah Bil. 1 mod 2 = 0 dan Bil. 2 lebih besar dari 3?\",not(num_1 % 2==0 or num_2 > 3 ))\n",
    "6"
   ]
  },
  {
   "cell_type": "markdown",
   "id": "5d7c191a-2c0a-41c6-8050-582fe805df0a",
   "metadata": {},
   "source": [
    "<h1>Operator Logika</h1>"
   ]
  },
  {
   "cell_type": "code",
   "execution_count": 28,
   "id": "3aae1b05-247f-4cfe-96b6-686f35cb4617",
   "metadata": {
    "scrolled": true
   },
   "outputs": [
    {
     "name": "stdout",
     "output_type": "stream",
     "text": [
      "True\n",
      "False\n",
      "True\n",
      "Memory Addres dari val1 1853582469824\n",
      "Memory Addres dari val2 140706518870744\n",
      "Memory Addres dari val3 140706518870744\n"
     ]
    },
    {
     "name": "stderr",
     "output_type": "stream",
     "text": [
      "<>:1: SyntaxWarning: \"is\" with 'str' literal. Did you mean \"==\"?\n",
      "<>:1: SyntaxWarning: \"is\" with 'str' literal. Did you mean \"==\"?\n",
      "C:\\Users\\user\\AppData\\Local\\Temp\\ipykernel_4840\\1840758298.py:1: SyntaxWarning: \"is\" with 'str' literal. Did you mean \"==\"?\n",
      "  print (\"Andi\" is \"Andi\")\n"
     ]
    }
   ],
   "source": [
    "print (\"Andi\" is \"Andi\")\n",
    "val1 = \"10\"\n",
    "val2 = 10\n",
    "val3 = val2\n",
    "print(val1 is val2)\n",
    "print(val1 is not val2)\n",
    "\n",
    "\n",
    "print(\"Memory Addres dari val1\",id(val1))\n",
    "print(\"Memory Addres dari val2\",id(val2))\n",
    "print(\"Memory Addres dari val3\",id(val3))"
   ]
  },
  {
   "cell_type": "markdown",
   "id": "ee2a05ce-b2f1-43b5-b32a-cfe9d1391fb2",
   "metadata": {},
   "source": [
    "<h1>Operator Keanggotaan</h1>"
   ]
  },
  {
   "cell_type": "code",
   "execution_count": 37,
   "id": "6ecad7cc-7929-40da-b1c0-3559fa3e30f6",
   "metadata": {},
   "outputs": [
    {
     "name": "stdout",
     "output_type": "stream",
     "text": [
      "False\n",
      "True\n"
     ]
    }
   ],
   "source": [
    "find = [\"Tatang\"]\n",
    "daftarMahasiswa = [\"Rudi\",\"Jajang\",\"Asep\",\"Tatang\"]\n",
    "\n",
    "print(find in daftarMahasiswa)\n",
    "print(find not in daftarMahasiswa)"
   ]
  },
  {
   "cell_type": "markdown",
   "id": "8e0f0466-86bc-4598-b5b9-0e327abe18e6",
   "metadata": {},
   "source": [
    "<h1>Operator Bitwise</h1>"
   ]
  },
  {
   "cell_type": "code",
   "execution_count": 44,
   "id": "3e0352e7-bbf3-43d3-8dc0-ee852919f372",
   "metadata": {},
   "outputs": [
    {
     "name": "stdin",
     "output_type": "stream",
     "text": [
      "Isikan Nilai 1 : 64\n",
      "Isikan Nilai 2 : 3\n"
     ]
    },
    {
     "name": "stdout",
     "output_type": "stream",
     "text": [
      "0\n",
      "67\n",
      "67\n",
      "512\n",
      "8\n"
     ]
    }
   ],
   "source": [
    "desimal1 = int(input(\"Isikan Nilai 1 :\"))\n",
    "desimal2 = int(input(\"Isikan Nilai 2 :\"))\n",
    "\n",
    "print(desimal1 & desimal2)\n",
    "print(desimal1 | desimal2)\n",
    "print(desimal1 ^ desimal2)\n",
    "print(desimal1 << desimal2)\n",
    "print(desimal1 >> desimal2)\n"
   ]
  },
  {
   "cell_type": "markdown",
   "id": "868cf013-4ddc-4934-a8fb-b5374afdeb88",
   "metadata": {},
   "source": [
    "<h1>Operator Ternary</h1>"
   ]
  },
  {
   "cell_type": "code",
   "execution_count": 36,
   "id": "05947909-052e-4586-b231-19f2a556b26b",
   "metadata": {},
   "outputs": [
    {
     "name": "stdout",
     "output_type": "stream",
     "text": [
      "Lebih besar dari 100\n",
      "Tidak Lebih besar dari 100\n"
     ]
    },
    {
     "name": "stdin",
     "output_type": "stream",
     "text": [
      "isi nilai 102\n"
     ]
    },
    {
     "name": "stdout",
     "output_type": "stream",
     "text": [
      "Lulus\n"
     ]
    },
    {
     "name": "stdin",
     "output_type": "stream",
     "text": [
      "isi nilai 2\n"
     ]
    },
    {
     "name": "stdout",
     "output_type": "stream",
     "text": [
      "Tidak Lulus\n"
     ]
    }
   ],
   "source": [
    "Angka = 200\n",
    "hasil = \"Lebih besar dari 100\" if Angka > 100 else \"Tidak Lebih besar dari 100\"\n",
    "print(hasil)\n",
    "\n",
    "Angka2 = 95\n",
    "hasil2 = \"Lebih Besar dari 100\" if Angka2 > 100 else \"Tidak Lebih besar dari 100\"\n",
    "print(hasil2)\n",
    "\n",
    "Nilai_Ujian = int(input(\"isi nilai\"))\n",
    "Status = \"Lulus\" if Nilai_Ujian > 70 else \"Tidak Lulus\"\n",
    "print(Status)\n",
    "\n",
    "Nilai_Ujian2 = int(input(\"isi nilai\"))\n",
    "Status2 = \"Lulus\" if Nilai_Ujian2 > 70 else \"Tidak Lulus\"\n",
    "print(Status2)"
   ]
  },
  {
   "cell_type": "code",
   "execution_count": 32,
   "id": "1447be94-ea85-4fa7-851b-3c1e72abd5e9",
   "metadata": {},
   "outputs": [
    {
     "name": "stdout",
     "output_type": "stream",
     "text": [
      "Lebih besar dari 17 tahun\n",
      "Tidak lebih besar dari 17 tahun\n"
     ]
    },
    {
     "name": "stdin",
     "output_type": "stream",
     "text": [
      "isi umur 22\n"
     ]
    },
    {
     "name": "stdout",
     "output_type": "stream",
     "text": [
      "Lulus\n"
     ]
    },
    {
     "name": "stdin",
     "output_type": "stream",
     "text": [
      "isi umur 12\n"
     ]
    },
    {
     "name": "stdout",
     "output_type": "stream",
     "text": [
      "Tidak Lulus\n"
     ]
    }
   ],
   "source": [
    "## Ujian membuat sim contoh lain\n",
    "Umur = 21\n",
    "hasil = \"Lebih besar dari 17 tahun\" if Umur > 17 else \"Tidak lebih besar dari 17 tahun\"\n",
    "print(hasil)\n",
    "\n",
    "Umur2 = 15\n",
    "hasil2 = \"Lebih besar dari 17 tahun\" if Umur2 > 17 else \"Tidak lebih besar dari 17 tahun\"\n",
    "print(hasil2)\n",
    "\n",
    "Membuat_SIM = int(input(\"isi umur\"))\n",
    "Status = \"Lulus\" if Membuat_SIM > 15 else \"Tidak Lulus\"\n",
    "print(Status)\n",
    "\n",
    "\n",
    "Membuat_SIM2 = int(input(\"isi umur\"))\n",
    "Status = \"Lulus\" if Membuat_SIM2 > 15 else \"Tidak Lulus\"\n",
    "print(Status2)"
   ]
  }
 ],
 "metadata": {
  "kernelspec": {
   "display_name": "Python [conda env:base] *",
   "language": "python",
   "name": "conda-base-py"
  },
  "language_info": {
   "codemirror_mode": {
    "name": "ipython",
    "version": 3
   },
   "file_extension": ".py",
   "mimetype": "text/x-python",
   "name": "python",
   "nbconvert_exporter": "python",
   "pygments_lexer": "ipython3",
   "version": "3.12.7"
  }
 },
 "nbformat": 4,
 "nbformat_minor": 5
}
