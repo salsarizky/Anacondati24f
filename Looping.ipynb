{
 "cells": [
  {
   "cell_type": "markdown",
   "id": "e3cf4c42-4aa5-4e3e-a25a-f3b489ce3250",
   "metadata": {},
   "source": [
    "<h1>for variable in colecction</h1>"
   ]
  },
  {
   "cell_type": "code",
   "execution_count": 4,
   "id": "a9618825-d7b1-455f-9990-a5639f8d7a50",
   "metadata": {},
   "outputs": [
    {
     "name": "stdout",
     "output_type": "stream",
     "text": [
      "Nama Buah : Apple\n",
      "Nama Buah : Banana\n",
      "Nama Buah : Watermelon\n",
      "Nama Buah : Pineaplle\n"
     ]
    }
   ],
   "source": [
    "fruits = [\"Apple\",\"Banana\",\"Watermelon\",\"Pineaplle\"]\n",
    "for fruit in fruits:\n",
    "\n",
    "    print(f\"Nama Buah : {fruit}\")"
   ]
  },
  {
   "cell_type": "code",
   "execution_count": 6,
   "id": "1c51e03f-92d8-4545-89ee-149c9fa40b42",
   "metadata": {},
   "outputs": [
    {
     "name": "stdout",
     "output_type": "stream",
     "text": [
      "Nilai Rata-rata : 71.42857142857143\n"
     ]
    }
   ],
   "source": [
    "#contoh \n",
    "#carilah nilai rata rata nilai pemograman phyton di kelas TI24F\n",
    "\n",
    "nilaiPhyton = [80,100,90,70,70,50,40]\n",
    "total = 0  \n",
    "for nilai in nilaiPhyton:\n",
    "    total += nilai\n",
    "\n",
    "rata2 = total / len(nilaiPhyton)\n",
    "print(f\"Nilai Rata-rata : {rata2}\")"
   ]
  },
  {
   "cell_type": "code",
   "execution_count": 8,
   "id": "3a12d944-6c87-4cda-a1e6-02e5ec26605a",
   "metadata": {},
   "outputs": [
    {
     "name": "stdout",
     "output_type": "stream",
     "text": [
      "0 : Jan\n",
      "1 : Feb\n",
      "2 : Mar\n",
      "3 : Apr\n",
      "4 : May\n",
      "5 : Jun\n",
      "6 : Jul\n",
      "7 : Agust\n",
      "8 : Sep\n",
      "9 : Okt\n",
      "10 : Nov\n",
      "11 : Des\n"
     ]
    }
   ],
   "source": [
    "#Enumerate\n",
    "month = [\"Jan\",\"Feb\",\"Mar\",\"Apr\",\"May\",\"Jun\",\"Jul\",\"Agust\",\"Sep\",\"Okt\",\"Nov\",\"Des\"]\n",
    "for i, m in enumerate(month):\n",
    "    print(f\"{i} : {m}\")"
   ]
  },
  {
   "cell_type": "code",
   "execution_count": 36,
   "id": "99a11a30-9c39-4aae-a137-e124133b3a14",
   "metadata": {},
   "outputs": [
    {
     "name": "stdin",
     "output_type": "stream",
     "text": [
      "Isikan Nama Kampus: institut pertanian bogor\n"
     ]
    },
    {
     "name": "stdout",
     "output_type": "stream",
     "text": [
      "i adalah Huruf Vokal Total:1\n",
      "n adalah Bukan Huruf Vokal Total:1\n",
      "s adalah Bukan Huruf Vokal Total:1\n",
      "t adalah Bukan Huruf Vokal Total:1\n",
      "i adalah Huruf Vokal Total:2\n",
      "t adalah Bukan Huruf Vokal Total:2\n",
      "u adalah Huruf Vokal Total:3\n",
      "t adalah Bukan Huruf Vokal Total:3\n",
      "  adalah Bukan Huruf Vokal Total:3\n",
      "p adalah Bukan Huruf Vokal Total:3\n",
      "e adalah Huruf Vokal Total:4\n",
      "r adalah Bukan Huruf Vokal Total:4\n",
      "t adalah Bukan Huruf Vokal Total:4\n",
      "a adalah Huruf Vokal Total:5\n",
      "n adalah Bukan Huruf Vokal Total:5\n",
      "i adalah Huruf Vokal Total:6\n",
      "a adalah Huruf Vokal Total:7\n",
      "n adalah Bukan Huruf Vokal Total:7\n",
      "  adalah Bukan Huruf Vokal Total:7\n",
      "b adalah Bukan Huruf Vokal Total:7\n",
      "o adalah Huruf Vokal Total:8\n",
      "g adalah Bukan Huruf Vokal Total:8\n",
      "o adalah Huruf Vokal Total:9\n",
      "r adalah Bukan Huruf Vokal Total:9\n",
      "Jumlah Total huruf Vokal : 9\n"
     ]
    }
   ],
   "source": [
    "kampus = input(\"Isikan Nama Kampus:\")\n",
    "listVokal = [\"a\",\"i\",\"u\",\"e\",\"o\"]\n",
    "total = 0 \n",
    "isVokal =\"\"\n",
    "for karakter in kampus:\n",
    "    if karakter in listVokal:\n",
    "        total +=1\n",
    "        isVokal = \"Huruf Vokal\"\n",
    "    else:\n",
    "        isVokal = \"Bukan Huruf Vokal\"\n",
    "    print(f\"{karakter} adalah {isVokal} Total:{total}\") #berapa banyak jumlah huruf vokal 'a,i,u,e,o'\n",
    "print(f\"Jumlah Total huruf Vokal : {total}\")"
   ]
  },
  {
   "cell_type": "code",
   "execution_count": 62,
   "id": "097df8b0-a1cd-4c3f-9b21-ef811279ea8e",
   "metadata": {},
   "outputs": [
    {
     "name": "stdout",
     "output_type": "stream",
     "text": [
      "[1, 4, 9, 16, 25]\n"
     ]
    }
   ],
   "source": [
    "#Looping list Comprehension\n",
    "data = [1,2,3,4,5]\n",
    "pangkat = [x**2 for x in data]\n",
    "print(pangkat)"
   ]
  },
  {
   "cell_type": "code",
   "execution_count": 60,
   "id": "cf1c18df-93e0-4a31-a7ab-c53d7563f253",
   "metadata": {},
   "outputs": [
    {
     "name": "stdout",
     "output_type": "stream",
     "text": [
      "Nilai i adalah:0\n",
      "Nilai i adalah:1\n",
      "Nilai i adalah:2\n",
      "Nilai i adalah:3\n",
      "Nilai i adalah:4\n",
      "Nilai i adalah:5\n"
     ]
    }
   ],
   "source": [
    "#Range 1 parameter\n",
    "for i in range(6):\n",
    "    print(f\"Nilai i adalah:{i}\")"
   ]
  },
  {
   "cell_type": "code",
   "execution_count": 56,
   "id": "dac21892-d76e-41eb-bc2f-702d240d5b22",
   "metadata": {},
   "outputs": [
    {
     "name": "stdout",
     "output_type": "stream",
     "text": [
      "Nilai j : 5\n",
      "Nilai j : 6\n",
      "Nilai j : 7\n",
      "Nilai j : 8\n",
      "Nilai j : 9\n"
     ]
    }
   ],
   "source": [
    "#Range 2 parameter\n",
    "for j in range(5,10):\n",
    "    print(f\"Nilai j : {j}\")"
   ]
  },
  {
   "cell_type": "code",
   "execution_count": 86,
   "id": "750adad4-406a-4569-a83c-382eae2a7a71",
   "metadata": {},
   "outputs": [
    {
     "name": "stdin",
     "output_type": "stream",
     "text": [
      "Isikan Bilangan: 4\n"
     ]
    },
    {
     "name": "stdout",
     "output_type": "stream",
     "text": [
      "4 adalah Bukan Prima\n"
     ]
    }
   ],
   "source": [
    "#Cek bilangan prima atau bukan prima \n",
    "number = int(input(\"Isikan Bilangan:\")) \n",
    "faktor=0\n",
    "for i in range (1,number+1): \n",
    "    if number % i == 0:\n",
    "        faktor +=1\n",
    "if faktor ==2:\n",
    "    print(f\"{number} adalah Bilangan Prima\")\n",
    "else:\n",
    "    print(f\"{number} adalah Bukan Prima\")"
   ]
  },
  {
   "cell_type": "code",
   "execution_count": 88,
   "id": "c0deef9d-27f8-4693-afa2-bf130be0e79d",
   "metadata": {},
   "outputs": [
    {
     "name": "stdin",
     "output_type": "stream",
     "text": [
      "Isikan Bilangan: 7\n"
     ]
    },
    {
     "name": "stdout",
     "output_type": "stream",
     "text": [
      "7! = 5040\n"
     ]
    }
   ],
   "source": [
    "#Fakorial\n",
    "# 3! = 3 * 2 * 1 = 6\n",
    "total = 1\n",
    "number = int(input(\"Isikan Bilangan:\"))\n",
    "for i in range(1,number+1):\n",
    "    total *= i\n",
    "print(f\"{number}! = {total}\")"
   ]
  },
  {
   "cell_type": "code",
   "execution_count": 105,
   "id": "208f2c49-c5b2-49d8-a7f6-cc135a39afab",
   "metadata": {},
   "outputs": [
    {
     "name": "stdin",
     "output_type": "stream",
     "text": [
      "Isikan Bilangan: 17\n"
     ]
    },
    {
     "name": "stdout",
     "output_type": "stream",
     "text": [
      "1  -2  3  -4  5  -6  7  -8  9  -10  11  -12  13  -14  15  -16  17  "
     ]
    }
   ],
   "source": [
    "# 1 -2 3 -4 5 -6 7 -8 9 -10\n",
    "number = int(input(\"Isikan Bilangan:\"))\n",
    "sign = 1\n",
    "for i in range(1,number+1):\n",
    "    result = sign * i\n",
    "    print(f\"{result}  \", end='')\n",
    "    sign *= -1\n",
    "    \n"
   ]
  },
  {
   "cell_type": "code",
   "execution_count": 111,
   "id": "380ce507-bb29-4e53-94c3-da1e5ffc9794",
   "metadata": {},
   "outputs": [
    {
     "name": "stdout",
     "output_type": "stream",
     "text": [
      "Jumlah Penonton Laki-Laki:4\n",
      "Jumlah Penonton Perempuan:6\n"
     ]
    }
   ],
   "source": [
    "#Hitung jumlah penonton laki laki\n",
    "#Hitung jumlah penonton perempuan\n",
    "kursiBioskop = [\"L\",\"P\",\"L\",\"P\",\"P\",\"P\",\"L\",\"L\",\"P\",\"P\"]\n",
    "\n",
    "totalLaki = 0\n",
    "for jenis in kursiBioskop:\n",
    "    if jenis==\"L\":\n",
    "        totalLaki +=1\n",
    "\n",
    "print(f\"Jumlah Penonton Laki-Laki:{totalLaki}\")\n",
    "print(f\"Jumlah Penonton Perempuan:{len(kursiBioskop)-totalLaki}\")\n",
    "\n"
   ]
  },
  {
   "cell_type": "code",
   "execution_count": 115,
   "id": "f305e2b8-c5a8-4166-903a-73112a6b8758",
   "metadata": {},
   "outputs": [
    {
     "name": "stdout",
     "output_type": "stream",
     "text": [
      "Jumlah Couple:5\n"
     ]
    }
   ],
   "source": [
    "#Hitung jumlah orang yang kemungkinan berpasangan\n",
    "\n",
    "kursi = [\"L\",\"P\",\"L\",\"P\",\"P\",\"P\",\"L\",\"L\",\"P\",\"P\"]\n",
    "couple = 0\n",
    "for i in range(len(kursi)-1):\n",
    "    if kursi[i] != kursi [i+1] :\n",
    "        couple+=1\n",
    "print(f\"Jumlah Couple:{couple}\")"
   ]
  },
  {
   "cell_type": "code",
   "execution_count": 123,
   "id": "9d5c1f62-0ffb-47e8-ba92-defcdc3a3a60",
   "metadata": {},
   "outputs": [
    {
     "name": "stdout",
     "output_type": "stream",
     "text": [
      "fname : Acaw\n",
      "lname : Reja\n"
     ]
    }
   ],
   "source": [
    "data = {\n",
    "    \"fname\" : \"Acaw\",\n",
    "    \"lname\" : \"Reja\"\n",
    "}\n",
    "for key,value in data.items():\n",
    "    print(f\"{key} : {value}\")\n",
    "    "
   ]
  },
  {
   "cell_type": "code",
   "execution_count": null,
   "id": "bfe0d6d2-657f-4b31-a57f-23dfbf2b8c4b",
   "metadata": {},
   "outputs": [],
   "source": [
    "tahu = [10,10,10,10,10,10,10,10,10]\n",
    "\n"
   ]
  }
 ],
 "metadata": {
  "kernelspec": {
   "display_name": "Python [conda env:base] *",
   "language": "python",
   "name": "conda-base-py"
  },
  "language_info": {
   "codemirror_mode": {
    "name": "ipython",
    "version": 3
   },
   "file_extension": ".py",
   "mimetype": "text/x-python",
   "name": "python",
   "nbconvert_exporter": "python",
   "pygments_lexer": "ipython3",
   "version": "3.12.7"
  }
 },
 "nbformat": 4,
 "nbformat_minor": 5
}
