{
 "cells": [
  {
   "cell_type": "code",
   "execution_count": null,
   "id": "9aeae64e-54bc-4322-ba34-2ac3dd1f2f9a",
   "metadata": {},
   "outputs": [],
   "source": []
  }
 ],
 "metadata": {
  "kernelspec": {
   "display_name": "",
   "name": ""
  },
  "language_info": {
   "name": ""
  }
 },
 "nbformat": 4,
 "nbformat_minor": 5
}
