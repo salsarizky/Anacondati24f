{
 "cells": [
  {
   "cell_type": "markdown",
   "id": "0a76cace-f9a5-4709-a090-83b7b68fdf52",
   "metadata": {},
   "source": [
    "<b>Operator Aritmatika<b/>"
   ]
  },
  {
   "cell_type": "code",
   "execution_count": 2,
   "id": "0a33bc82-9c36-4767-b9e0-a4deacc2b7b1",
   "metadata": {},
   "outputs": [],
   "source": [
    "def aritmatika():\n",
    "    num1 = int(input(\"Masukkan bilangan pertama: \"))\n",
    "    num2 =  int(input(\"Masukkan bilangan kedua: \"))\n",
    "    print(\"\"\"\n",
    "    Pilih Metode:\n",
    "    1. Penjumlahan \n",
    "    2. Perkalian\n",
    "    3. Perpangkatan \n",
    "    \"\"\")\n",
    "    choice = int(input(\"(1/2/3): \"))\n",
    "    if choice == 1:\n",
    "        r1 = math.add(num1,num2)\n",
    "        print(r1)\n",
    "    elif choice == 2:\n",
    "        r2 = math.multiply(num1,num2)\n",
    "        print(r2)\n",
    "    elif choice == 3:\n",
    "        r3 = math.pow(num1,num2)\n",
    "        print(r3)\n",
    "    else:\n",
    "        print(\"Input tidak valid!\")"
   ]
  },
  {
   "cell_type": "code",
   "execution_count": 3,
   "id": "ec85eea9-486f-41c9-9c13-78623d470db5",
   "metadata": {},
   "outputs": [],
   "source": [
    "def conv():\n",
    "    print(\"\"\"\n",
    "    Pilih Metode:\n",
    "    1. M to CM\n",
    "    2. CM to M\n",
    "    \"\"\")\n",
    "    choice = int(input(\"(1/2): \"))\n",
    "    if choice == 1:\n",
    "        meter = int(input(\"Masukkan nilai meter: \"))\n",
    "        r1 = convert.meterToCm(meter)\n",
    "        print(f\"Panjang dalam cm: {r1}\")\n",
    "    elif choice == 2:\n",
    "        cm = int(input(\"Masukkan nilai cm: \"))\n",
    "        r2 = convert.cmToMeter(cm)\n",
    "        print(f\"Panjang dalam meter: {r2}\")\n",
    "    else: \n",
    "        print(\"Input tidak valid!\")"
   ]
  },
  {
   "cell_type": "code",
   "execution_count": 4,
   "id": "963e6be2-845d-4de8-b894-9a1c46b3dedc",
   "metadata": {},
   "outputs": [],
   "source": [
    "def change():\n",
    "    decim = int(input(\"Masukkan Bilangan Desimal: \"))\n",
    "    print(\"\"\"\"\n",
    "    Pilih Metode:\n",
    "    1. Decimal to Biner\n",
    "    2. Decimal to Octal\n",
    "    3. Decimal to Hexa\n",
    "    \"\"\")\n",
    "    choice = int(input(\"(1/2/3): \"))\n",
    "    if choice == 1:\n",
    "        r1 = ceng.binary(decim)\n",
    "        print(f\"Desimal ke biner adalah: {r1}\")\n",
    "    elif choice == 2:\n",
    "        r1 = ceng.octal(decim)\n",
    "        print(f\"Desimal ke octal adalah: {r1}\")\n",
    "    elif choice == 3:\n",
    "        r1 = ceng.hexa(decim)\n",
    "        print(f\"Desimal ke hexa adalah: {r1}\")\n",
    "    else:\n",
    "        print(\"Input tidak valid!\")"
   ]
  },
  {
   "cell_type": "code",
   "execution_count": null,
   "id": "37b15399-9155-46e1-8895-6701888cc9fc",
   "metadata": {},
   "outputs": [
    {
     "name": "stdout",
     "output_type": "stream",
     "text": [
      "\n",
      "\n",
      "    pilih kegiatan:\n",
      "    1. Aritmatika\n",
      "    2. Konversi\n",
      "    3. Ubah Bilangan\n",
      "    4. Exit\n",
      "    \n"
     ]
    }
   ],
   "source": [
    "import Aritmatika.math as math\n",
    "import konversi.convert as convert\n",
    "import ubah.change as ceng\n",
    "\n",
    "while True:\n",
    "    print(\"\"\"\n",
    "\n",
    "    pilih kegiatan:\n",
    "    1. Aritmatika\n",
    "    2. Konversi\n",
    "    3. Ubah Bilangan\n",
    "    4. Exit\n",
    "    \"\"\")\n",
    "    choice = int(input(\"Masukkan input (1/2/3/4):\\n\"))\n",
    "    if choice == 1:\n",
    "        aritmatika()\n",
    "    elif choice == 2:\n",
    "        conv()\n",
    "    elif choice == 3:\n",
    "        change()\n",
    "    elif choice == 4:\n",
    "        print(\"Terimakasih sudah menggunakan menu!\")\n",
    "        break\n",
    "    else:\n",
    "        print(\"Input tidak valid!\")\n",
    "    "
   ]
  },
  {
   "cell_type": "code",
   "execution_count": null,
   "id": "2c3833ae-707d-4ddc-897c-b111abdfb93e",
   "metadata": {},
   "outputs": [],
   "source": []
  }
 ],
 "metadata": {
  "kernelspec": {
   "display_name": "Python [conda env:base] *",
   "language": "python",
   "name": "conda-base-py"
  },
  "language_info": {
   "codemirror_mode": {
    "name": "ipython",
    "version": 3
   },
   "file_extension": ".py",
   "mimetype": "text/x-python",
   "name": "python",
   "nbconvert_exporter": "python",
   "pygments_lexer": "ipython3",
   "version": "3.12.7"
  }
 },
 "nbformat": 4,
 "nbformat_minor": 5
}
