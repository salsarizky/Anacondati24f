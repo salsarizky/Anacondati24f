{
 "cells": [
  {
   "cell_type": "code",
   "execution_count": null,
   "id": "37603b83-7743-4007-9642-53849a24b484",
   "metadata": {},
   "outputs": [],
   "source": [
    "#Funsi Tanpa Parameter\n",
    "def greeting():\n",
    "    print(\"Hallo,Apa Kabar?\")\n",
    "greeting()\n",
    "greeting()"
   ]
  },
  {
   "cell_type": "code",
   "execution_count": null,
   "id": "5ec485bb-0127-4ecc-8948-11bafbf86580",
   "metadata": {},
   "outputs": [],
   "source": [
    "import datetime\n",
    "def showDate():\n",
    "    today = datetime.date.today()\n",
    "    print(f\"Sekarang tanggal:{today}\")\n",
    "\n",
    "def isWeekend():\n",
    "    today = datetime.date.today().weekday()\n",
    "    if today <5:\n",
    "        print(\"Sekarang weekday\")\n",
    "    else:\n",
    "        print(\"Sekarang weekend\")\n",
    "    print (today)\n",
    "    \n",
    "showDate()\n",
    "isWeekend()"
   ]
  },
  {
   "cell_type": "code",
   "execution_count": 45,
   "id": "6c12e41c-78f4-4299-9bd7-d12b337fe423",
   "metadata": {},
   "outputs": [
    {
     "name": "stdout",
     "output_type": "stream",
     "text": [
      "Salsa Rizky Sabillah\n",
      "Prof.Salsa Rizky Sabillah S.Kom.,M.Kom.\n"
     ]
    }
   ],
   "source": [
    "#Fungsi dengan parameter, tidak ada return value\n",
    "def getFullName(first,middle,last):\n",
    "    print(f\"{first} {middle} {last}\")\n",
    "\n",
    "#Fungsi dengan parameter dan return value\n",
    "def getName(first,middle,last):\n",
    "    return f\"{first} {middle} {last}\"\n",
    "\n",
    "getFullName (\"Salsa\",\"Rizky\",\"Sabillah\")\n",
    "myname = getName (\"Salsa\",\"Rizky\",\"Sabillah\")\n",
    "title1 = \"Prof\"\n",
    "title2 = \"S.Kom\"\n",
    "title3 = \"M.Kom\"\n",
    "\n",
    "print(f\"{title1}.{myname} {title2}.,{title3}.\")\n"
   ]
  },
  {
   "cell_type": "code",
   "execution_count": null,
   "id": "f35289f2-dbb3-495b-9a85-1b03c8c420a8",
   "metadata": {},
   "outputs": [],
   "source": [
    "#Fungsi Aritmatika \n",
    "def add(num1,num2):\n",
    "    return num1 + num2\n",
    "\n",
    "def multiply(num1,num2):\n",
    "    return num1 * num2\n",
    "\n",
    "r1 = add(5,6) #11\n",
    "r2 = multiply(10,3) #30\n",
    "r3 = add(r1,r2) #41\n",
    "\n",
    "print (f\"Hasil penjumlahan 5 dan 6:{r1}\")\n",
    "print (f\"Hasil perkalian 10 dan 3:{r2}\")\n",
    "print (f\"Hasil penjumlahan {r1} dan {r2}:{r3}\")"
   ]
  },
  {
   "cell_type": "code",
   "execution_count": null,
   "id": "18e36d62-6339-4040-ad0b-bea507e97862",
   "metadata": {},
   "outputs": [],
   "source": [
    "#Fungsi dengan return lebih dari 1\n",
    "def arithmatic(num1,num2):\n",
    "    add = num1 + num2\n",
    "    multiply = num1 * num2 \n",
    "    return add,multiply\n",
    "\n",
    "tambah,kali = arithmatic(5,6)\n",
    "print(f\"Hasil penjumlahan :{tambah}\")\n",
    "print(f\"hasil perkalian:{kali}\")\n",
    "\n"
   ]
  },
  {
   "cell_type": "code",
   "execution_count": null,
   "id": "ccf6fa45-b026-483c-a17b-27331cab7e26",
   "metadata": {},
   "outputs": [],
   "source": [
    "#Fungsi dengan nilai default\n",
    "def userRegistration(email,username,password,status=\"Belum Aktif\"):\n",
    "    if(len(username)>3):\n",
    "        result = \"\"\n",
    "        if (len(password)>5):\n",
    "            result += f\"Registration is succsesfull\\n\"\n",
    "            result += f\"Username:{username}\\n\"\n",
    "            result += f\"Password:{password}\\n\"\n",
    "            result += f\"Email:{email}\\n)\"\n",
    "            result += f\"Status:{status}\\n\"\n",
    "            return result\n",
    "        else:\n",
    "            return\"Registration failed (Username must be more than 5 )\"\n",
    "    else:\n",
    "        return\"Registration failed (Username must be more than 3 )\"\n",
    "\n",
    "print(userRegistration(\"acaw@gmail.com\",\"acaw\",\"080804\"))\n",
    "print(userRegistration(\"acaw@gmail.com\",\"acaw\",\"080804\",\"Aktif\"))\n",
    "print(userRegistration(\"acaw@gmail.com\",\"aca\",\"080804\",\"Aktif\"))\n",
    "print(userRegistration(\"acaw@gmail.com\",\"acaw\",\"08080\",\"Aktif\"))"
   ]
  },
  {
   "cell_type": "code",
   "execution_count": null,
   "id": "e9c6b2e0-7629-4be0-b288-a75e89984a56",
   "metadata": {},
   "outputs": [],
   "source": [
    "#Fungsi dengan nilai default\n",
    "def checkPassword(password):\n",
    "    result =\"\"\n",
    "    if(len(password)<=5):\n",
    "       result =\"Registration failed (Password must be more than 5 )\"\n",
    "    return result\n",
    "\n",
    "def checkUsername(username):\n",
    "    result =\"\"\n",
    "    if(len(username)<=4):\n",
    "       result =\"Registration failed (Username must be more than 3 )\\n\"\n",
    "    return result\n",
    "\n",
    "def userRegistration(email,username,password,status=\"Belum Aktif\"):\n",
    "    user = checkUsername(username)\n",
    "    pwd = checkPassword(password)\n",
    "    result = \"\"\n",
    "    if(len(user)>0):\n",
    "        result +=user\n",
    "\n",
    "    if (len(pwd)>0):\n",
    "        result +=pwd\n",
    "\n",
    "    if(len(result)==0):\n",
    "        result += f\"Registration is succsesfull\\n\"\n",
    "        result += f\"Username:{username}\\n\"\n",
    "        result += f\"Password:{password}\\n\"\n",
    "        result += f\"Email:{email}\\n)\"\n",
    "    return result \n",
    "print(userRegistration(\"acaw@gmail.com\",\"acaw\",\"0804\",\"Aktif\"))"
   ]
  },
  {
   "cell_type": "code",
   "execution_count": null,
   "id": "4521635c-5225-4a46-84d6-6c06dfc37a85",
   "metadata": {},
   "outputs": [],
   "source": [
    "import Aritmatika.math as math\n",
    "angka1 = int(input(\"Angka 1:\"))\n",
    "angka2 = int(input(\"Angka 2:\"))\n",
    "\n",
    "r1 = math.add(angka1,angka2)\n",
    "r2 = math.multiply(angka1,angka2)\n",
    "r3 = math.pow(angka1,angka2)\n",
    "print (r1)\n",
    "print (r2)\n",
    "print (r3)\n"
   ]
  },
  {
   "cell_type": "code",
   "execution_count": null,
   "id": "2cf1c54b-ebc8-43d2-a041-a24ea48f478f",
   "metadata": {},
   "outputs": [],
   "source": [
    "from konversi.convert import cmToMeter as cToM\n",
    "\n",
    "angka = int(input(\"Isikan Panjang:\"))\n",
    "r1 = cToM(angka)\n",
    "print(f\"Panjang dalam cm:{angka}\")\n",
    "print(f\"Panjang dalam meter:{r1}\")"
   ]
  },
  {
   "cell_type": "code",
   "execution_count": null,
   "id": "6015853b-3b01-4853-9400-c4ee35d5eb9f",
   "metadata": {},
   "outputs": [],
   "source": [
    "from konversi.convert import cmToMeter , meterToCm\n",
    "\n",
    "meter = int(input(\"Isikan Panjang dalam(meter):\"))\n",
    "cm = int(input(\"Isikan Panjang dalam(centimeter):\"))\n",
    "\n",
    "r1 = meterToCm(meter)\n",
    "r2 = cmToMeter(cm)\n",
    "print(f\"Panjang dalam cm:{r2}\")\n",
    "print(f\"Panjang dalam meter:{r1}\")"
   ]
  }
 ],
 "metadata": {
  "kernelspec": {
   "display_name": "Python [conda env:base] *",
   "language": "python",
   "name": "conda-base-py"
  },
  "language_info": {
   "codemirror_mode": {
    "name": "ipython",
    "version": 3
   },
   "file_extension": ".py",
   "mimetype": "text/x-python",
   "name": "python",
   "nbconvert_exporter": "python",
   "pygments_lexer": "ipython3",
   "version": "3.12.7"
  }
 },
 "nbformat": 4,
 "nbformat_minor": 5
}
