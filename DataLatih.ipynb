{
 "cells": [
  {
   "cell_type": "code",
   "execution_count": 23,
   "id": "4cc1d61a-dbda-49f5-8e0b-f0439a6f0cf4",
   "metadata": {},
   "outputs": [
    {
     "name": "stdout",
     "output_type": "stream",
     "text": [
      "<class 'pandas.core.frame.DataFrame'>\n",
      "RangeIndex: 100 entries, 0 to 99\n",
      "Data columns (total 4 columns):\n",
      " #   Column     Non-Null Count  Dtype \n",
      "---  ------     --------------  ----- \n",
      " 0   Usia       100 non-null    int32 \n",
      " 1   Transaksi  100 non-null    int32 \n",
      " 2   Label      100 non-null    int32 \n",
      " 3   Gender     100 non-null    object\n",
      "dtypes: int32(3), object(1)\n",
      "memory usage: 2.1+ KB\n"
     ]
    },
    {
     "data": {
      "text/plain": [
       "400"
      ]
     },
     "execution_count": 23,
     "metadata": {},
     "output_type": "execute_result"
    }
   ],
   "source": [
    "import numpy as np \n",
    "import pandas as pd \n",
    "\n",
    "n_data = 100\n",
    "\n",
    "usia = np.random.randint(18,61,size=n_data)\n",
    "transaksi = np.random.randint(0,51,size=n_data)\n",
    "label = np.random.randint(0,2,size=n_data)\n",
    "gender = np.random.choice(['L','P'],size=n_data)\n",
    "\n",
    "df = pd.DataFrame({\n",
    "    'Usia' : usia,\n",
    "    'Transaksi' : transaksi,\n",
    "    'Label' : label,\n",
    "    'Gender' : gender\n",
    "})\n",
    "df.to_csv('dataLatih.csv',index=False)\n",
    "df.head\n",
    "df.info()\n",
    "df.size\n",
    "\n"
   ]
  },
  {
   "cell_type": "code",
   "execution_count": null,
   "id": "d751e5ea-4bdc-44a3-88c1-f9c108e1154d",
   "metadata": {},
   "outputs": [],
   "source": []
  }
 ],
 "metadata": {
  "kernelspec": {
   "display_name": "Python [conda env:base] *",
   "language": "python",
   "name": "conda-base-py"
  },
  "language_info": {
   "codemirror_mode": {
    "name": "ipython",
    "version": 3
   },
   "file_extension": ".py",
   "mimetype": "text/x-python",
   "name": "python",
   "nbconvert_exporter": "python",
   "pygments_lexer": "ipython3",
   "version": "3.12.7"
  }
 },
 "nbformat": 4,
 "nbformat_minor": 5
}
