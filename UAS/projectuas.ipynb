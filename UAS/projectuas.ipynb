{
 "cells": [
  {
   "cell_type": "code",
   "execution_count": null,
   "id": "9a3d805f-d4c7-4960-84d2-a68b65a64a69",
   "metadata": {},
   "outputs": [],
   "source": [
    "# Import pustaka yang dibutuhkan\n",
    "import pandas as pd\n",
    "import matplotlib.pyplot as plt\n",
    "import seaborn as sns\n",
    "from sklearn.linear_model import LinearRegression\n",
    "\n",
    "# 1. Load data\n",
    "df = pd.read_csv('cases.csv')\n",
    "df.head()"
   ]
  },
  {
   "cell_type": "code",
   "execution_count": null,
   "id": "340b03a2-9c8e-4df9-b62e-d09e9c30a3c1",
   "metadata": {},
   "outputs": [],
   "source": [
    "X = df[['acc_confirmed']].fillna(0)\n",
    "y = df['new_confirmed'].fillna(0)\n",
    "\n",
    "model = LinearRegression()\n",
    "model.fit(X, y)\n",
    "\n",
    "r2 = model.score(X, y)\n",
    "coef = model.coef_[0]\n",
    "intercept = model.intercept_\n",
    "\n",
    "print(f\"Coef: {coef}\")\n",
    "print(f\"Intercept: {intercept}\")\n",
    "print(f\"\\nRegresi Linier: new_confirmed = {coef:.2f} * acc_confirmed + {intercept:.2f}\")\n",
    "print(f\"R² Score: {r2:.4f}\")"
   ]
  },
  {
   "cell_type": "code",
   "execution_count": null,
   "id": "f4302a2a-c631-4289-99c8-8d0c1c297344",
   "metadata": {},
   "outputs": [],
   "source": [
    "plt.figure(figsize=(14, 10))\n",
    "plt.suptitle('Infografis COVID-19 Indonesia\\nStatistik & Regresi Linier', fontsize=16, weight='bold')\n",
    "\n",
    "# Histogram Kasus Baru\n",
    "plt.subplot(2, 2, 1)\n",
    "sns.histplot(df['new_confirmed'].dropna(), bins=30, color='#fa8c16')\n",
    "plt.title('Distribusi Kasus Baru (new_confirmed)')\n",
    "\n",
    "# Boxplot Kematian Baru\n",
    "plt.subplot(2, 2, 2)\n",
    "sns.boxplot(y=df['new_deceased'].dropna(), color='#ff4d4f')\n",
    "plt.title('Sebaran Kematian Baru (new_deceased)')\n",
    "\n",
    "# Scatter + Line Regressi\n",
    "plt.subplot(2, 1, 2)\n",
    "sns.regplot(x='acc_confirmed', y='new_confirmed', data=df,\n",
    "            scatter_kws={'s':10}, line_kws={'color':'blue'})\n",
    "plt.title(f'Regresi: new_confirmed vs acc_confirmed\\nR² = {r2:.3f}, y = {coef:.2f}x + {intercept:.2f}')\n",
    "plt.xlabel('Total Kasus Terkonfirmasi (acc_confirmed)')\n",
    "plt.ylabel('Kasus Baru Harian (new_confirmed)')\n",
    "\n",
    "plt.tight_layout(rect=[0, 0, 1, 0.93])\n",
    "plt.show()"
   ]
  }
 ],
 "metadata": {
  "kernelspec": {
   "display_name": "Python [conda env:base] *",
   "language": "python",
   "name": "conda-base-py"
  },
  "language_info": {
   "codemirror_mode": {
    "name": "ipython",
    "version": 3
   },
   "file_extension": ".py",
   "mimetype": "text/x-python",
   "name": "python",
   "nbconvert_exporter": "python",
   "pygments_lexer": "ipython3",
   "version": "3.12.7"
  }
 },
 "nbformat": 4,
 "nbformat_minor": 5
}
