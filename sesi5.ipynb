{
 "cells": [
  {
   "cell_type": "code",
   "execution_count": 1,
   "id": "a0400ea6-a18e-4a9c-b993-7545c04345c1",
   "metadata": {},
   "outputs": [
    {
     "name": "stdin",
     "output_type": "stream",
     "text": [
      "Masukan Nama Anda : Salsa Rizky Sabillah\n",
      "Masukan Nim anda : 20240040195\n",
      "Masukan nama kampus :  nusa putra\n",
      "Masukan Nama falkultas Anda :  teknik\n",
      "Masukan nama Jurusan anda :  informatika\n",
      "masukan tempat,Tanggal lahir anda :  riau 090909\n",
      "Masukan Nama Alamat anda :  nagrak\n"
     ]
    },
    {
     "name": "stdout",
     "output_type": "stream",
     "text": [
      "NAMA : Salsa Rizky Sabillah!\n",
      "NIM : 20240040195!\n",
      "kampus : nusa putra!\n",
      "falkultas : teknik!\n",
      "jurusan : informatika!\n",
      "TEMPAT, TANGGAL LAHIR : riau 090909!\n",
      "Alamat : nagrak!\n"
     ]
    }
   ],
   "source": [
    "nama = input (\"Masukan Nama Anda :\")\n",
    "nim = input (\"Masukan Nim anda :\")\n",
    "kampus = input (\"Masukan nama kampus : \")\n",
    "falkultas = input (\"Masukan Nama falkultas Anda : \")\n",
    "jurusan = input (\"Masukan nama Jurusan anda : \")\n",
    "TempatTanggalLahir = input (\"masukan tempat,Tanggal lahir anda : \")\n",
    "Alamat = input (\"Masukan Nama Alamat anda : \")\n",
    "\n",
    "print(\"NAMA : \" + nama + \"!\")\n",
    "print(\"NIM : \" + nim + \"!\")\n",
    "print(\"kampus : \" + kampus + \"!\") \n",
    "print(\"falkultas : \" + falkultas + \"!\") \n",
    "print(\"jurusan : \" + jurusan + \"!\") \n",
    "print(\"TEMPAT, TANGGAL LAHIR : \" + TempatTanggalLahir + \"!\")\n",
    "print(\"Alamat : \" + Alamat + \"!\")"
   ]
  },
  {
   "cell_type": "code",
   "execution_count": 5,
   "id": "88152cd2-cc0d-4288-9fe7-853032ab700d",
   "metadata": {},
   "outputs": [
    {
     "name": "stdout",
     "output_type": "stream",
     "text": [
      "UNIVERSITAS NUSA PUTRA SUKABUMI\n",
      "\n",
      "a.putra nusa\n",
      "\n",
      "\n",
      "b.NIVERSITAS NSA PTRA SKABMI\n",
      "\n",
      "\n",
      "c.SUKABUMI PUTRA NUSA UNIVERSITAS\n",
      "\n",
      "\n",
      "d.UNPS\n",
      "\n",
      "\n",
      "e.TAS SAPU BUMI\n",
      "0\n"
     ]
    }
   ],
   "source": [
    "pesan = \"UNIVERSITAS NUSA PUTRA SUKABUMI\"\n",
    "print(pesan)\n",
    "############################################\n",
    "#1.mengubah semua huruf menjadi kapital\n",
    "print(\"\\na.putra nusa\")\n",
    "print(\"\".upper())\n",
    "############################################\n",
    "#2.Mengubah Semua Huruf Menjadi Huruf Kecil:\n",
    "print(\"\\nb.NIVERSITAS NSA PTRA SKABMI\")\n",
    "print(\"\".lower())\n",
    "############################################\n",
    "#3.Mengubah Huruf Pertama Menjadi Kapital:\n",
    "print(\"\\nc.SUKABUMI PUTRA NUSA UNIVERSITAS\")\n",
    "print(\"\".capitalize())\n",
    "############################################\n",
    "#4.Memotong String (Mengambil 5 Karakter Pertama):\n",
    "print(\"\\nd.UNPS\")\n",
    "print(\"\"[:5])\n",
    "###########################################\n",
    "#6.Menghitung Jumlah Karakter dalam String:\n",
    "print(\"\\ne.TAS SAPU BUMI\")\n",
    "print(len(\"\"))"
   ]
  }
 ],
 "metadata": {
  "kernelspec": {
   "display_name": "Python [conda env:base] *",
   "language": "python",
   "name": "conda-base-py"
  },
  "language_info": {
   "codemirror_mode": {
    "name": "ipython",
    "version": 3
   },
   "file_extension": ".py",
   "mimetype": "text/x-python",
   "name": "python",
   "nbconvert_exporter": "python",
   "pygments_lexer": "ipython3",
   "version": "3.12.7"
  }
 },
 "nbformat": 4,
 "nbformat_minor": 5
}
