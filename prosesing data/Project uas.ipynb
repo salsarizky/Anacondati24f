{
 "cells": [
  {
   "cell_type": "code",
   "execution_count": 1,
   "id": "9edaa938-be75-4b78-87a9-8b365878539e",
   "metadata": {},
   "outputs": [],
   "source": [
    "import pandas as pd"
   ]
  },
  {
   "cell_type": "code",
   "execution_count": 9,
   "id": "457ea811-190f-4166-bbca-d58b7741aba7",
   "metadata": {},
   "outputs": [
    {
     "name": "stdout",
     "output_type": "stream",
     "text": [
      "<bound method DataFrame.info of                              id  followers                 genres  \\\n",
      "0        0DheY5irMjBUeLybbCUEZ2        0.0                     []   \n",
      "1        0DlhY15l3wsrnlfGio2bjU        5.0                     []   \n",
      "2        0DmRESX2JknGPQyO15yxg7        0.0                     []   \n",
      "3        0DmhnbHjm1qw6NCYPeZNgJ        0.0                     []   \n",
      "4        0Dn11fWM7vHQ3rinvWEl4E        2.0                     []   \n",
      "...                         ...        ...                    ...   \n",
      "1104344  6rJIG42vcWAf1UBdRFlQxB     3345.0                     []   \n",
      "1104345  1ljurfXKPlGncNdW3J8zJ8     2123.0  ['deep acoustic pop']   \n",
      "1104346  2vnT9YhKIvjVo9LnVjWmr2       26.0                     []   \n",
      "1104347  3ID0E5XCvnJIYZEq043ZoB      406.0                     []   \n",
      "1104348  5m0Y4WSYyai2BU752lCASy      146.0                     []   \n",
      "\n",
      "                                                   name  popularity  \n",
      "0        Armid & Amir Zare Pashai feat. Sara Rouzbehani           0  \n",
      "1                                           ปูนา ภาวิณี           0  \n",
      "2                                                 Sadaa           0  \n",
      "3                                             Tra'gruda           0  \n",
      "4                                Ioannis Panoutsopoulos           0  \n",
      "...                                                 ...         ...  \n",
      "1104344                                      Cody Longo           8  \n",
      "1104345                                 Right the Stars          18  \n",
      "1104346                                  Jesse Giddings           0  \n",
      "1104347                            The Boy Band Project           0  \n",
      "1104348                                      10 Reasons           1  \n",
      "\n",
      "[1104349 rows x 5 columns]>\n",
      "<bound method NDFrame.head of                              id  followers                 genres  \\\n",
      "0        0DheY5irMjBUeLybbCUEZ2        0.0                     []   \n",
      "1        0DlhY15l3wsrnlfGio2bjU        5.0                     []   \n",
      "2        0DmRESX2JknGPQyO15yxg7        0.0                     []   \n",
      "3        0DmhnbHjm1qw6NCYPeZNgJ        0.0                     []   \n",
      "4        0Dn11fWM7vHQ3rinvWEl4E        2.0                     []   \n",
      "...                         ...        ...                    ...   \n",
      "1104344  6rJIG42vcWAf1UBdRFlQxB     3345.0                     []   \n",
      "1104345  1ljurfXKPlGncNdW3J8zJ8     2123.0  ['deep acoustic pop']   \n",
      "1104346  2vnT9YhKIvjVo9LnVjWmr2       26.0                     []   \n",
      "1104347  3ID0E5XCvnJIYZEq043ZoB      406.0                     []   \n",
      "1104348  5m0Y4WSYyai2BU752lCASy      146.0                     []   \n",
      "\n",
      "                                                   name  popularity  \n",
      "0        Armid & Amir Zare Pashai feat. Sara Rouzbehani           0  \n",
      "1                                           ปูนา ภาวิณี           0  \n",
      "2                                                 Sadaa           0  \n",
      "3                                             Tra'gruda           0  \n",
      "4                                Ioannis Panoutsopoulos           0  \n",
      "...                                                 ...         ...  \n",
      "1104344                                      Cody Longo           8  \n",
      "1104345                                 Right the Stars          18  \n",
      "1104346                                  Jesse Giddings           0  \n",
      "1104347                            The Boy Band Project           0  \n",
      "1104348                                      10 Reasons           1  \n",
      "\n",
      "[1104349 rows x 5 columns]>\n"
     ]
    }
   ],
   "source": [
    "df = pd.read_csv(\"artists.csv\")\n",
    "print(df.info)\n",
    "print(df.head)"
   ]
  },
  {
   "cell_type": "markdown",
   "id": "3ca3a0e9-8b5d-43fb-893b-ed4b69981390",
   "metadata": {},
   "source": [
    "Berapa jumlah artis yang ada di dalam data tersebut?\n",
    "Siapa artis dengan jumlah followers terbanyak?\n",
    "Genre apa yang paling sering muncul dalam data tersebut?\n",
    "Siapa artis dengan popularitas tertinggi?"
   ]
  }
 ],
 "metadata": {
  "kernelspec": {
   "display_name": "Python [conda env:base] *",
   "language": "python",
   "name": "conda-base-py"
  },
  "language_info": {
   "codemirror_mode": {
    "name": "ipython",
    "version": 3
   },
   "file_extension": ".py",
   "mimetype": "text/x-python",
   "name": "python",
   "nbconvert_exporter": "python",
   "pygments_lexer": "ipython3",
   "version": "3.12.7"
  }
 },
 "nbformat": 4,
 "nbformat_minor": 5
}
