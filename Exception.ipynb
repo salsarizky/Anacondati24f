{
 "cells": [
  {
   "cell_type": "code",
   "execution_count": null,
   "id": "a677edce-063f-48ae-b775-744084babeef",
   "metadata": {},
   "outputs": [],
   "source": [
    "try:\n",
    "    angka1 = int(input('angka1 :'))\n",
    "    angka2 = int(input('angka2 :'))\n",
    "    operator = input(\"Operator(+,-,*,/):\")\n",
    "    if operator == \"+\":\n",
    "        hasil = angka1 + angka2\n",
    "    elif operator == \"-\":\n",
    "        hasil = angka1 - angka2\n",
    "    elif operator == \"*\":\n",
    "        hasil = angka1 * angka2\n",
    "    elif operator == \"/\":\n",
    "        hasil = angka1 / angka2\n",
    "    else:\n",
    "        hasil = \"Operator salah!\"\n",
    "except ZeroDivisionError:\n",
    "    print(\"Tidak diperbolehkan pembagian dengan 0\")\n",
    "except ValueError:\n",
    "    print(\"Inputna kudu angka\")\n",
    "else:\n",
    "    print(f\"Hasil : {hasil}\")\n",
    "finally :\n",
    "    print(\"Proses perhitungan selesai dikerjakan!\")"
   ]
  },
  {
   "cell_type": "code",
   "execution_count": null,
   "id": "29395700-2bc4-48e6-a531-68e2100c4532",
   "metadata": {},
   "outputs": [],
   "source": [
    "#IndexError -> LIST\n",
    "data = []\n",
    "try:\n",
    "    jumlahData = int(input(\"Banyak Data:\"))\n",
    "    \n",
    "    for i in range (0,jumlahData):\n",
    "        nilai = int(input(\"Isikan Nilai Siswa:\"))\n",
    "        data.append(nilai)\n",
    "        \n",
    "    showData = int(input(\"Tampilkan data urutan ke berapa :\"))\n",
    "    hasil = data [showData-1]\n",
    "except ValueError:\n",
    "    print(\"Input harus angka!!\")\n",
    "except IndexError:\n",
    "    print(\"Data tidak tersedia!!\")\n",
    "else:\n",
    "    print(hasil)\n",
    "finally:\n",
    "    print(\"Load Data selesai!!\")"
   ]
  },
  {
   "cell_type": "code",
   "execution_count": null,
   "id": "87cc5061-1b3b-4479-876a-dd0b359f3f76",
   "metadata": {},
   "outputs": [],
   "source": [
    "#Custom exception\n",
    "#Tiket film, umur >= 17\n",
    "\n",
    "class UmurEXception(Exception):\n",
    "    pass\n",
    "\n",
    "def checkUmur(umur):\n",
    "    if umur < 17:\n",
    "        raise UmurException(\"Umur harus lebih dari 16\")\n",
    "        \n",
    "\n",
    "try:\n",
    "    umur = int(input(\"Isikan Umur:\"))\n",
    "    checkUmur(umur)\n",
    "except (ValueError,UmurException) as err:\n",
    "    print(\"Terjadi kesalahan\",err)\n",
    "else:\n",
    "    print(\"Umur anda valid\")\n",
    "finally:\n",
    "    print(\"Cek Umur selesai dikerjakan!!\")"
   ]
  },
  {
   "cell_type": "code",
   "execution_count": null,
   "id": "d84825fb-399f-4f3c-9599-15fa98012184",
   "metadata": {},
   "outputs": [],
   "source": [
    "#Data dari datebase -> dict\n",
    "\n",
    "try:\n",
    "    dataSiswa = {\n",
    "        \"nim\" : '20240040101',\n",
    "        \"nama\" : 'ACAW',\n",
    "        \"alamat\" : \"Nagrak\"\n",
    "\n",
    "    }\n",
    "    print(dataSiswa[\"kelas\"])\n",
    "except KeyError:\n",
    "    print(\"Data tidak tersedia\")\n",
    "except NameError:\n",
    "    print(\"Kesalahan mengakses nama atribut\")"
   ]
  },
  {
   "cell_type": "code",
   "execution_count": null,
   "id": "4c596c0b-7b3c-47b5-9d22-ef7fcac460ab",
   "metadata": {},
   "outputs": [],
   "source": [
    "#File handling -> mengakses file plain text\n",
    "# open(\"Nama_file\",\"Mode\")\n",
    "# mode -> r - read, w - write, a - append\n",
    "\n",
    "try:\n",
    "    File = open(\"datalatih.csv\",'r')\n",
    "    konten = File.read()\n",
    "except FileNotFoundError:\n",
    "    print(\"File tidak ditemukkan!!\")\n",
    "else:\n",
    "    print(konten)\n",
    "finally:\n",
    "    File.close()"
   ]
  },
  {
   "cell_type": "code",
   "execution_count": null,
   "id": "5687e632-bbab-40fb-8d67-7467c9041b49",
   "metadata": {},
   "outputs": [],
   "source": [
    "try:\n",
    "    with open(\"data.txt\",'w') as file:\n",
    "        file.write(\"Hello, Apa kabar!!\\n\")\n",
    "        file.write(\"Minggu ini kita balikan\\n\""
   ]
  }
 ],
 "metadata": {
  "kernelspec": {
   "display_name": "Python [conda env:base] *",
   "language": "python",
   "name": "conda-base-py"
  },
  "language_info": {
   "codemirror_mode": {
    "name": "ipython",
    "version": 3
   },
   "file_extension": ".py",
   "mimetype": "text/x-python",
   "name": "python",
   "nbconvert_exporter": "python",
   "pygments_lexer": "ipython3",
   "version": "3.12.7"
  }
 },
 "nbformat": 4,
 "nbformat_minor": 5
}
