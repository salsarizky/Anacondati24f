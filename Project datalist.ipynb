{
 "cells": [
  {
   "cell_type": "code",
   "execution_count": 7,
   "id": "832b1d1f-6a26-4c30-9a5a-75cbbb0480bd",
   "metadata": {},
   "outputs": [],
   "source": [
    "def addStudent():\n",
    "    id_student = int(input(\"Masukkan ID Mahasiswa:\"))\n",
    "    name_student = input(\"Masukkan Nama Mahasiswa:\")\n",
    "    major_student = input(\"Masukkan prodi Mahasiswa:\")\n",
    "    IPK_student = float(input(\"Masukkan IPK Mahasiswa:\"))\n",
    "    temp = []\n",
    "    temp.append(name_student)\n",
    "    temp.append(major_student)\n",
    "    temp.append(IPK_student)\n",
    "    temp = tuple(temp)\n",
    "    datalist[id_student] = temp"
   ]
  },
  {
   "cell_type": "code",
   "execution_count": 13,
   "id": "4c1844cc-1f51-4c11-b13b-b2a74dacfcf6",
   "metadata": {},
   "outputs": [],
   "source": [
    "def readStudent():\n",
    "    print(datalist)"
   ]
  },
  {
   "cell_type": "code",
   "execution_count": 27,
   "id": "7b6b1682-ea15-4eec-8fa9-7818ba2b77ff",
   "metadata": {},
   "outputs": [],
   "source": [
    "def findStudent():\n",
    "    id_student =  int(input(\"Masukkan ID Mahasiswa yang akan dicari:\"))\n",
    "    if id_student in datalist:\n",
    "        print(datalist[id_student])\n",
    "    else:\n",
    "        print(\"Mahasiswa tidak di temukan\")"
   ]
  },
  {
   "cell_type": "code",
   "execution_count": 29,
   "id": "ac9c3193-ddf2-40bc-a953-4f3d82b23187",
   "metadata": {},
   "outputs": [],
   "source": [
    "def updateIPKStudent():\n",
    "    id_student = int(input(\"Masukkan ID Mahasiswa yang akan update IPK:\"))\n",
    "    update_IPK = float(input(\"Masukkan IPK yang terbaru:\"))\n",
    "    temp = list(datalist[id_student])\n",
    "    temp[2] = update_IPK\n",
    "    temp = tuple(temp)\n",
    "    datalist[id_student] = temp\n",
    "    "
   ]
  },
  {
   "cell_type": "code",
   "execution_count": 31,
   "id": "7f34bd2f-9cfd-4779-b6b2-a604126c4d11",
   "metadata": {},
   "outputs": [],
   "source": [
    "def  delStudent():\n",
    "    id_student = int(input(\"Masukkan ID Mahasiswa yang akan di hapus:\"))\n",
    "    del datalist[id_student]"
   ]
  },
  {
   "cell_type": "code",
   "execution_count": null,
   "id": "092ae0ae-6ed1-4f89-848e-7b36436bc188",
   "metadata": {},
   "outputs": [],
   "source": [
    "# i = True\n",
    "while i is True:\n",
    "    print(\"---Menu--- \\n\\n1.Tambahkan Mahasiswa \\n2.Tampilkan Seluruh Mahasiswa \\n3.Cari Mahasiswa \\n4.Update IPK Mahasiswa \\n5.Hapus Mahasiswa \\n6.Keluar\")\n",
    "    pilihan = int(input())\n",
    "    \n",
    "    if pilihan == 1:\n",
    "        addStudent()\n",
    "    \n",
    "    elif pilihan == 2:\n",
    "        readStudent()\n",
    "    \n",
    "    elif pilihan == 3:\n",
    "        findStudent()\n",
    "    \n",
    "    elif pilihan == 4:\n",
    "        updateIPKStudent()\n",
    "    \n",
    "    elif pilihan == 5:\n",
    "        delStudent()\n",
    "    \n",
    "    elif pilihan == 6:\n",
    "        i = False\n",
    "    else:\n",
    "        print(\"MasukKan angka yang ada di menu (1-6\")"
   ]
  }
 ],
 "metadata": {
  "kernelspec": {
   "display_name": "Python [conda env:base] *",
   "language": "python",
   "name": "conda-base-py"
  },
  "language_info": {
   "codemirror_mode": {
    "name": "ipython",
    "version": 3
   },
   "file_extension": ".py",
   "mimetype": "text/x-python",
   "name": "python",
   "nbconvert_exporter": "python",
   "pygments_lexer": "ipython3",
   "version": "3.12.7"
  }
 },
 "nbformat": 4,
 "nbformat_minor": 5
}
